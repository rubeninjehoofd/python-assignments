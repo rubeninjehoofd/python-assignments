{
 "cells": [
  {
   "cell_type": "markdown",
   "metadata": {},
   "source": [
    "# Classification\n",
    "Author: Ruben Schild<br>\n",
    "Student number: 650580<br>\n",
    "Date: 21-5-2022"
   ]
  },
  {
   "cell_type": "markdown",
   "metadata": {},
   "source": [
    "For this notebook to work you must have installed the following packages (usually via pip install *packageName*:\n",
    "* numpy\n",
    "* pandas\n",
    "* **\\<add other packages\\>**\n",
    "\n",
    "From these we will need the following libraries:"
   ]
  },
  {
   "cell_type": "code",
   "execution_count": 3,
   "metadata": {},
   "outputs": [
    {
     "name": "stdout",
     "output_type": "stream",
     "text": [
      "Pandas already installed, only imported\n",
      "NumPy already installed, only imported\n",
      "PyPlot already installed, only imported\n",
      "seaborn already installed, only imported\n",
      "statsmodels already installed, only imported\n",
      "sklearn already installed, only imported\n",
      "eli5 already installed, only imported\n"
     ]
    }
   ],
   "source": [
    "# pandas as pd\n",
    "try:\n",
    "    import pandas as pd\n",
    "    print('Pandas already installed, only imported')\n",
    "except:\n",
    "    !pip install pandas\n",
    "    import pandas as pd\n",
    "    print('Pandas was not installed, installed and imported')\n",
    "    \n",
    "# numpy as np\n",
    "try:\n",
    "    import numpy as np\n",
    "    print('NumPy already installed, only imported')\n",
    "except:\n",
    "    !pip install numpy\n",
    "    import numpy as np\n",
    "    print('NumPy was not installed, installed and imported')\n",
    "    \n",
    "# pyplot as plt\n",
    "try:\n",
    "    import matplotlib.pyplot as plt\n",
    "    print('PyPlot already installed, only imported')\n",
    "except:\n",
    "    !pip install matplotlib\n",
    "    import matplotlib.pyplot as plt\n",
    "    print('PyPlot was not installed, installed and imported')    \n",
    "\n",
    "# sns\n",
    "\n",
    "try: \n",
    "    import seaborn as sns\n",
    "    print('seaborn already installed, only imported')\n",
    "except:\n",
    "    !pip install seaborn\n",
    "    print('seaborn was not installed, installed and imported')\n",
    "\n",
    "try:\n",
    "    import statsmodels.api as sm\n",
    "    print('statsmodels already installed, only imported')\n",
    "\n",
    "except:\n",
    "    !pip install statsmodels\n",
    "    print('statsmodels was not installed, installed and imported')\n",
    "\n",
    "# sklearn\n",
    "try:\n",
    "    from sklearn.linear_model import LinearRegression\n",
    "    print('sklearn already installed, only imported')\n",
    "except:\n",
    "    !pip install sklearn\n",
    "    from sklearn.linear_model import LinearRegression\n",
    "    print('sklearn was not installed, installed and imported')\n",
    "\n",
    "from sklearn import metrics\n",
    "\n",
    "try:\n",
    "    import eli5\n",
    "    print('eli5 already installed, only imported')\n",
    "except:\n",
    "    !pip install eli5\n",
    "    import eli5\n",
    "    print('eli5 was not installed, installed and imported')\n",
    "\n",
    "from eli5.sklearn import PermutationImportance\n"
   ]
  },
  {
   "cell_type": "markdown",
   "metadata": {},
   "source": [
    "# 1. The Data\n",
    "We are going to use the datafile from a customers personality analysis. The collected data is the buying behaviour of customers at a grocery store."
   ]
  },
  {
   "cell_type": "code",
   "execution_count": 4,
   "metadata": {},
   "outputs": [],
   "source": [
    "# enter the code to load the data\n",
    "loan_df = pd.read_csv('../data/loan.csv')\n"
   ]
  },
  {
   "cell_type": "markdown",
   "metadata": {},
   "source": [
    "Lets see if there are missing values:"
   ]
  },
  {
   "cell_type": "code",
   "execution_count": 5,
   "metadata": {},
   "outputs": [
    {
     "data": {
      "text/plain": [
       "Loan ID                           514\n",
       "Customer ID                       514\n",
       "Loan Status                       514\n",
       "Current Loan Amount               514\n",
       "Term                              514\n",
       "Credit Score                    19668\n",
       "Annual Income                   19668\n",
       "Years in current job             4736\n",
       "Home Ownership                    514\n",
       "Purpose                           514\n",
       "Monthly Debt                      514\n",
       "Years of Credit History           514\n",
       "Months since last delinquent    53655\n",
       "Number of Open Accounts           514\n",
       "Number of Credit Problems         514\n",
       "Current Credit Balance            514\n",
       "Maximum Open Credit               516\n",
       "Bankruptcies                      718\n",
       "Tax Liens                         524\n",
       "dtype: int64"
      ]
     },
     "execution_count": 5,
     "metadata": {},
     "output_type": "execute_result"
    }
   ],
   "source": [
    "loan_df.isna().sum()\n"
   ]
  },
  {
   "cell_type": "markdown",
   "metadata": {},
   "source": [
    "Looks like there are some some missing values, so lets remove them:"
   ]
  },
  {
   "cell_type": "code",
   "execution_count": 6,
   "metadata": {},
   "outputs": [
    {
     "data": {
      "text/plain": [
       "Loan ID                         0\n",
       "Customer ID                     0\n",
       "Loan Status                     0\n",
       "Current Loan Amount             0\n",
       "Term                            0\n",
       "Credit Score                    0\n",
       "Annual Income                   0\n",
       "Years in current job            0\n",
       "Home Ownership                  0\n",
       "Purpose                         0\n",
       "Monthly Debt                    0\n",
       "Years of Credit History         0\n",
       "Months since last delinquent    0\n",
       "Number of Open Accounts         0\n",
       "Number of Credit Problems       0\n",
       "Current Credit Balance          0\n",
       "Maximum Open Credit             0\n",
       "Bankruptcies                    0\n",
       "Tax Liens                       0\n",
       "dtype: int64"
      ]
     },
     "execution_count": 6,
     "metadata": {},
     "output_type": "execute_result"
    }
   ],
   "source": [
    "loan_df.dropna(inplace=True)\n",
    "loan_df.isna().sum()\n"
   ]
  },
  {
   "cell_type": "markdown",
   "metadata": {},
   "source": [
    "Here's a quick look at the data:"
   ]
  },
  {
   "cell_type": "code",
   "execution_count": 7,
   "metadata": {},
   "outputs": [
    {
     "data": {
      "text/html": [
       "<div>\n",
       "<style scoped>\n",
       "    .dataframe tbody tr th:only-of-type {\n",
       "        vertical-align: middle;\n",
       "    }\n",
       "\n",
       "    .dataframe tbody tr th {\n",
       "        vertical-align: top;\n",
       "    }\n",
       "\n",
       "    .dataframe thead th {\n",
       "        text-align: right;\n",
       "    }\n",
       "</style>\n",
       "<table border=\"1\" class=\"dataframe\">\n",
       "  <thead>\n",
       "    <tr style=\"text-align: right;\">\n",
       "      <th></th>\n",
       "      <th>Loan ID</th>\n",
       "      <th>Customer ID</th>\n",
       "      <th>Loan Status</th>\n",
       "      <th>Current Loan Amount</th>\n",
       "      <th>Term</th>\n",
       "      <th>Credit Score</th>\n",
       "      <th>Annual Income</th>\n",
       "      <th>Years in current job</th>\n",
       "      <th>Home Ownership</th>\n",
       "      <th>Purpose</th>\n",
       "      <th>Monthly Debt</th>\n",
       "      <th>Years of Credit History</th>\n",
       "      <th>Months since last delinquent</th>\n",
       "      <th>Number of Open Accounts</th>\n",
       "      <th>Number of Credit Problems</th>\n",
       "      <th>Current Credit Balance</th>\n",
       "      <th>Maximum Open Credit</th>\n",
       "      <th>Bankruptcies</th>\n",
       "      <th>Tax Liens</th>\n",
       "    </tr>\n",
       "  </thead>\n",
       "  <tbody>\n",
       "    <tr>\n",
       "      <th>2</th>\n",
       "      <td>4eed4e6a-aa2f-4c91-8651-ce984ee8fb26</td>\n",
       "      <td>5efb2b2b-bf11-4dfd-a572-3761a2694725</td>\n",
       "      <td>Fully Paid</td>\n",
       "      <td>99999999.0</td>\n",
       "      <td>Short Term</td>\n",
       "      <td>741.0</td>\n",
       "      <td>2231892.0</td>\n",
       "      <td>8 years</td>\n",
       "      <td>Own Home</td>\n",
       "      <td>Debt Consolidation</td>\n",
       "      <td>29200.53</td>\n",
       "      <td>14.9</td>\n",
       "      <td>29.0</td>\n",
       "      <td>18.0</td>\n",
       "      <td>1.0</td>\n",
       "      <td>297996.0</td>\n",
       "      <td>750090.0</td>\n",
       "      <td>0.0</td>\n",
       "      <td>0.0</td>\n",
       "    </tr>\n",
       "    <tr>\n",
       "      <th>6</th>\n",
       "      <td>273581de-85d8-4332-81a5-19b04ce68666</td>\n",
       "      <td>90a75dde-34d5-419c-90dc-1e58b04b3e35</td>\n",
       "      <td>Fully Paid</td>\n",
       "      <td>217646.0</td>\n",
       "      <td>Short Term</td>\n",
       "      <td>730.0</td>\n",
       "      <td>1184194.0</td>\n",
       "      <td>&lt; 1 year</td>\n",
       "      <td>Home Mortgage</td>\n",
       "      <td>Debt Consolidation</td>\n",
       "      <td>10855.08</td>\n",
       "      <td>19.6</td>\n",
       "      <td>10.0</td>\n",
       "      <td>13.0</td>\n",
       "      <td>1.0</td>\n",
       "      <td>122170.0</td>\n",
       "      <td>272052.0</td>\n",
       "      <td>1.0</td>\n",
       "      <td>0.0</td>\n",
       "    </tr>\n",
       "    <tr>\n",
       "      <th>8</th>\n",
       "      <td>8af915d9-9e91-44a0-b5a2-564a45c12089</td>\n",
       "      <td>af534dea-d27e-4fd6-9de8-efaa52a78ec0</td>\n",
       "      <td>Fully Paid</td>\n",
       "      <td>548746.0</td>\n",
       "      <td>Short Term</td>\n",
       "      <td>678.0</td>\n",
       "      <td>2559110.0</td>\n",
       "      <td>2 years</td>\n",
       "      <td>Rent</td>\n",
       "      <td>Debt Consolidation</td>\n",
       "      <td>18660.28</td>\n",
       "      <td>22.6</td>\n",
       "      <td>33.0</td>\n",
       "      <td>4.0</td>\n",
       "      <td>0.0</td>\n",
       "      <td>437171.0</td>\n",
       "      <td>555038.0</td>\n",
       "      <td>0.0</td>\n",
       "      <td>0.0</td>\n",
       "    </tr>\n",
       "    <tr>\n",
       "      <th>10</th>\n",
       "      <td>32c2e48f-1ba8-45e0-a530-9a6622c18d9c</td>\n",
       "      <td>0de7bcdb-ebf4-4608-ba39-05f083f855b6</td>\n",
       "      <td>Fully Paid</td>\n",
       "      <td>99999999.0</td>\n",
       "      <td>Short Term</td>\n",
       "      <td>728.0</td>\n",
       "      <td>714628.0</td>\n",
       "      <td>3 years</td>\n",
       "      <td>Rent</td>\n",
       "      <td>Debt Consolidation</td>\n",
       "      <td>11851.06</td>\n",
       "      <td>16.0</td>\n",
       "      <td>76.0</td>\n",
       "      <td>16.0</td>\n",
       "      <td>0.0</td>\n",
       "      <td>203965.0</td>\n",
       "      <td>289784.0</td>\n",
       "      <td>0.0</td>\n",
       "      <td>0.0</td>\n",
       "    </tr>\n",
       "    <tr>\n",
       "      <th>12</th>\n",
       "      <td>403d7235-0284-4bb6-919a-09402fecbf7b</td>\n",
       "      <td>11581f68-de3c-49d8-80d9-22268ebb323b</td>\n",
       "      <td>Fully Paid</td>\n",
       "      <td>99999999.0</td>\n",
       "      <td>Short Term</td>\n",
       "      <td>740.0</td>\n",
       "      <td>776188.0</td>\n",
       "      <td>&lt; 1 year</td>\n",
       "      <td>Own Home</td>\n",
       "      <td>Debt Consolidation</td>\n",
       "      <td>11578.22</td>\n",
       "      <td>8.5</td>\n",
       "      <td>25.0</td>\n",
       "      <td>6.0</td>\n",
       "      <td>0.0</td>\n",
       "      <td>134083.0</td>\n",
       "      <td>220220.0</td>\n",
       "      <td>0.0</td>\n",
       "      <td>0.0</td>\n",
       "    </tr>\n",
       "  </tbody>\n",
       "</table>\n",
       "</div>"
      ],
      "text/plain": [
       "                                 Loan ID  \\\n",
       "2   4eed4e6a-aa2f-4c91-8651-ce984ee8fb26   \n",
       "6   273581de-85d8-4332-81a5-19b04ce68666   \n",
       "8   8af915d9-9e91-44a0-b5a2-564a45c12089   \n",
       "10  32c2e48f-1ba8-45e0-a530-9a6622c18d9c   \n",
       "12  403d7235-0284-4bb6-919a-09402fecbf7b   \n",
       "\n",
       "                             Customer ID Loan Status  Current Loan Amount  \\\n",
       "2   5efb2b2b-bf11-4dfd-a572-3761a2694725  Fully Paid           99999999.0   \n",
       "6   90a75dde-34d5-419c-90dc-1e58b04b3e35  Fully Paid             217646.0   \n",
       "8   af534dea-d27e-4fd6-9de8-efaa52a78ec0  Fully Paid             548746.0   \n",
       "10  0de7bcdb-ebf4-4608-ba39-05f083f855b6  Fully Paid           99999999.0   \n",
       "12  11581f68-de3c-49d8-80d9-22268ebb323b  Fully Paid           99999999.0   \n",
       "\n",
       "          Term  Credit Score  Annual Income Years in current job  \\\n",
       "2   Short Term         741.0      2231892.0              8 years   \n",
       "6   Short Term         730.0      1184194.0             < 1 year   \n",
       "8   Short Term         678.0      2559110.0              2 years   \n",
       "10  Short Term         728.0       714628.0              3 years   \n",
       "12  Short Term         740.0       776188.0             < 1 year   \n",
       "\n",
       "   Home Ownership             Purpose  Monthly Debt  Years of Credit History  \\\n",
       "2        Own Home  Debt Consolidation      29200.53                     14.9   \n",
       "6   Home Mortgage  Debt Consolidation      10855.08                     19.6   \n",
       "8            Rent  Debt Consolidation      18660.28                     22.6   \n",
       "10           Rent  Debt Consolidation      11851.06                     16.0   \n",
       "12       Own Home  Debt Consolidation      11578.22                      8.5   \n",
       "\n",
       "    Months since last delinquent  Number of Open Accounts  \\\n",
       "2                           29.0                     18.0   \n",
       "6                           10.0                     13.0   \n",
       "8                           33.0                      4.0   \n",
       "10                          76.0                     16.0   \n",
       "12                          25.0                      6.0   \n",
       "\n",
       "    Number of Credit Problems  Current Credit Balance  Maximum Open Credit  \\\n",
       "2                         1.0                297996.0             750090.0   \n",
       "6                         1.0                122170.0             272052.0   \n",
       "8                         0.0                437171.0             555038.0   \n",
       "10                        0.0                203965.0             289784.0   \n",
       "12                        0.0                134083.0             220220.0   \n",
       "\n",
       "    Bankruptcies  Tax Liens  \n",
       "2            0.0        0.0  \n",
       "6            1.0        0.0  \n",
       "8            0.0        0.0  \n",
       "10           0.0        0.0  \n",
       "12           0.0        0.0  "
      ]
     },
     "execution_count": 7,
     "metadata": {},
     "output_type": "execute_result"
    }
   ],
   "source": [
    "# enter the code to see the first few rows of the data\n",
    "loan_df.head()\n"
   ]
  },
  {
   "cell_type": "code",
   "execution_count": 8,
   "metadata": {},
   "outputs": [
    {
     "data": {
      "text/plain": [
       "array(['Fully Paid', 'Charged Off'], dtype=object)"
      ]
     },
     "execution_count": 8,
     "metadata": {},
     "output_type": "execute_result"
    }
   ],
   "source": [
    "# Code to see the types of loan statuses\n",
    "loan_df['Loan Status'].unique()\n"
   ]
  },
  {
   "cell_type": "markdown",
   "metadata": {},
   "source": [
    "**<span style ='background:yellow'>\\<explain the variables (/fields/columns) you are going to use for your prediction. The dependent y (the one you are going to predict) and two independent x's (the ones you are going to use to predict that y). What do these variables mean?\\></span>**\n",
    "\n",
    "We are going to predict the status of a loan based on the anual income and the monthly debt the borrower has. <br>\n",
    "These independent variables should be interesting on the outcome of the loan status. A high annual income would probably mean you can fully pay off the loan whereas a low anual income it would be more difficult. <br>\n",
    "The same goes for monthly debt, but then the other way around; if the borrower has a higher debt per month, the chance of the loan being charged off could be higher than when there is a lower monthly debt. \n",
    "\n",
    "*note:* Its easiest if your independent x variables are numeric."
   ]
  },
  {
   "cell_type": "code",
   "execution_count": 9,
   "metadata": {},
   "outputs": [],
   "source": [
    "# Make a separate datafram based on the selected variables\n",
    "loan_ss = loan_df[['Loan Status', 'Annual Income', 'Monthly Debt']]"
   ]
  },
  {
   "cell_type": "code",
   "execution_count": 10,
   "metadata": {},
   "outputs": [
    {
     "data": {
      "text/plain": [
       "Loan Status      0\n",
       "Annual Income    0\n",
       "Monthly Debt     0\n",
       "dtype: int64"
      ]
     },
     "execution_count": 10,
     "metadata": {},
     "output_type": "execute_result"
    }
   ],
   "source": [
    "loan_ss.isna().sum()"
   ]
  },
  {
   "cell_type": "markdown",
   "metadata": {},
   "source": [
    "The categorical dependent variable loan status has the following categories:"
   ]
  },
  {
   "cell_type": "code",
   "execution_count": 11,
   "metadata": {},
   "outputs": [
    {
     "name": "stderr",
     "output_type": "stream",
     "text": [
      "C:\\Users\\Ruben\\AppData\\Local\\Temp\\ipykernel_23860\\4021867281.py:2: SettingWithCopyWarning: \n",
      "A value is trying to be set on a copy of a slice from a DataFrame.\n",
      "Try using .loc[row_indexer,col_indexer] = value instead\n",
      "\n",
      "See the caveats in the documentation: https://pandas.pydata.org/pandas-docs/stable/user_guide/indexing.html#returning-a-view-versus-a-copy\n",
      "  loan_ss['Loan Status'] = pd.Categorical(loan_ss['Loan Status'])\n"
     ]
    },
    {
     "data": {
      "text/plain": [
       "Index(['Charged Off', 'Fully Paid'], dtype='object')"
      ]
     },
     "execution_count": 11,
     "metadata": {},
     "output_type": "execute_result"
    }
   ],
   "source": [
    "# code that returns the different categories in the y variable.\n",
    "loan_ss['Loan Status'] = pd.Categorical(loan_ss['Loan Status'])\n",
    "loan_ss['Loan Status'].cat.categories\n"
   ]
  },
  {
   "cell_type": "markdown",
   "metadata": {},
   "source": [
    "We'll also need some training and testing data, so:"
   ]
  },
  {
   "cell_type": "code",
   "execution_count": 12,
   "metadata": {},
   "outputs": [],
   "source": [
    "# code to split data in training and testing\n",
    "from sklearn.model_selection import train_test_split\n",
    "\n",
    "# Set input and output\n",
    "X = loan_ss[['Annual Income', 'Monthly Debt']]\n",
    "y = loan_ss['Loan Status']\n",
    "\n",
    "#Split the data\n",
    "X_train, X_test, y_train, y_test = train_test_split(X, y, test_size=0.2,random_state=109)"
   ]
  },
  {
   "cell_type": "markdown",
   "metadata": {},
   "source": [
    "All set, lets try to predict this using our independent variable Annual Income"
   ]
  },
  {
   "cell_type": "markdown",
   "metadata": {},
   "source": [
    "# 2. The Basic Classification Models\n",
    "\n",
    "In the Jupyter Notebook from lecture 5 a few different Classification techniques were discussed. Lets explore how these perform on the data."
   ]
  },
  {
   "cell_type": "markdown",
   "metadata": {},
   "source": [
    "Before we look at some 'real' models, its a good idea to get a baseline in by using one or more of the dummy classifiers. Lets see how they perform:"
   ]
  },
  {
   "cell_type": "code",
   "execution_count": 13,
   "metadata": {},
   "outputs": [
    {
     "name": "stdout",
     "output_type": "stream",
     "text": [
      "0.7964310226492793\n",
      "[[   0 1483]\n",
      " [   0 5802]]\n"
     ]
    }
   ],
   "source": [
    "# code to create, fit and measure the dummy classifiers (see chapter 5.4. in the lecture notebook)\n",
    "# include both the accuracy score and the confusion matrix for each.\n",
    "from sklearn.dummy import DummyClassifier\n",
    "from sklearn.metrics import confusion_matrix\n",
    "\n",
    "# Dummy classifier with stratified method\n",
    "dumSrat = DummyClassifier(strategy=\"most_frequent\")\n",
    "drumSrat = dumSrat.fit(X_train, y_train)\n",
    "y_pred = dumSrat.predict(X_test)\n",
    "print(metrics.accuracy_score(y_test, y_pred))\n",
    "print(confusion_matrix(y_test, y_pred))\n"
   ]
  },
  {
   "cell_type": "code",
   "execution_count": 14,
   "metadata": {},
   "outputs": [
    {
     "name": "stdout",
     "output_type": "stream",
     "text": [
      "0.7964310226492793\n",
      "[[   0 1483]\n",
      " [   0 5802]]\n"
     ]
    }
   ],
   "source": [
    "# Unified\n",
    "dumUni = DummyClassifier(strategy=\"prior\")\n",
    "dumUni.fit(X_train, y_train)\n",
    "y_pred = dumUni.predict(X_test)\n",
    "print(metrics.accuracy_score(y_test, y_pred))\n",
    "print(confusion_matrix(y_test, y_pred))"
   ]
  },
  {
   "cell_type": "markdown",
   "metadata": {},
   "source": [
    "**<span style ='background:yellow'>\\<explain all the results. What do the numbers mean?></span>**\n",
    "\n",
    "So the first dummy model performed okay, with a score with a rounded up score of 80% with the testing data. The second model performed exactly the same with 80%. <br>\n",
    "The confusion matrix of both models predicted 0 times the annual income and it actually was 0 times. It predicted 5802 the monthly debt and it was the monthly debt 5802 times. 1483 it predicted montly debt but was annual income. And 1187 times it predicted annual income but it actually was 1187 times monthly debt.<br>\n",
    "\n",
    "\n",
    "//\n",
    "The confusion matrix of the second model predicted 721 times annual income and that was true, it predicted 2926 times monthly debt and that was also true. But it predicted 762 times monthly debt but it was annual income. And it predicted 2876 times the annual income but was monthly debt. //"
   ]
  },
  {
   "cell_type": "markdown",
   "metadata": {},
   "source": [
    "So, those are our 'baseline'. A model should be able to at least outperform these.\n",
    "\n",
    "Lets dive in..."
   ]
  },
  {
   "cell_type": "markdown",
   "metadata": {},
   "source": [
    "## 2.1. Naive Bayes\n",
    "\n",
    "The first model discussed was the Naive Bayes model. "
   ]
  },
  {
   "cell_type": "markdown",
   "metadata": {},
   "source": [
    "**\\<explain briefly in your own words how a Naive Bayes method works>** <br>\n",
    "The Naive Bayes theorem assumes that there is independence among the other predictors. With this theorem you can calculate $P(A|B)$ if B is known, given A. So $P(B|A)$\n",
    "\n"
   ]
  },
  {
   "cell_type": "markdown",
   "metadata": {},
   "source": [
    "Lets create and fit this model:"
   ]
  },
  {
   "cell_type": "code",
   "execution_count": 15,
   "metadata": {},
   "outputs": [],
   "source": [
    "# code to create the model, and fit the data.\n",
    "from sklearn.naive_bayes import GaussianNB\n",
    "\n",
    "# Because we use numerical input, we need the Gaussian Distribution\n",
    "gaussNB = GaussianNB()\n",
    "\n",
    "# Make the model and create a prediction\n",
    "gaussNB.fit(X_train, y_train)\n",
    "y_predG = gaussNB.predict(X_test)\n"
   ]
  },
  {
   "cell_type": "markdown",
   "metadata": {},
   "source": [
    "Now to measure its performance:"
   ]
  },
  {
   "cell_type": "code",
   "execution_count": 16,
   "metadata": {},
   "outputs": [
    {
     "name": "stdout",
     "output_type": "stream",
     "text": [
      "0.7964310226492793\n",
      "[[   0 1483]\n",
      " [   0 5802]]\n"
     ]
    }
   ],
   "source": [
    "# code to show its accuracy score AND confusion matrix.\n",
    "print(metrics.accuracy_score(y_test, y_predG))\n",
    "print(confusion_matrix(y_test, y_predG))"
   ]
  },
  {
   "cell_type": "markdown",
   "metadata": {},
   "source": [
    "**<span style ='background:yellow'>\\<explain all the results. What do the numbers mean? How is this compared to the dummy classifiers?></span>** <br>\n",
    "The Gaussian model performed quite good with a rounded up score of 80% with the testing data. The confusion matrix of Gaussian model predicted 0 times the annual income and it was 0 times. It predicted 5802 the monthly debt and it was the monthly debt. 1483 it predicted montly debt but was annual income. And 0 times it predicted annual income and it was 0 times annual income."
   ]
  },
  {
   "cell_type": "markdown",
   "metadata": {},
   "source": [
    "Strangely, the Gaussian model performed exactly the same as the 2 dummy models"
   ]
  },
  {
   "cell_type": "markdown",
   "metadata": {},
   "source": [
    "Lets also have a look at what a prediction would be. If the Annual Income has a score of 85% and the Monthly Debt has a score of 80%, then this model will predict:"
   ]
  },
  {
   "cell_type": "code",
   "execution_count": 17,
   "metadata": {},
   "outputs": [
    {
     "data": {
      "text/plain": [
       "12986     Fully Paid\n",
       "71068     Fully Paid\n",
       "12733    Charged Off\n",
       "69049     Fully Paid\n",
       "19898     Fully Paid\n",
       "            ...     \n",
       "10869    Charged Off\n",
       "99368     Fully Paid\n",
       "33597     Fully Paid\n",
       "85475     Fully Paid\n",
       "24709     Fully Paid\n",
       "Name: Loan Status, Length: 7285, dtype: category\n",
       "Categories (2, object): ['Charged Off', 'Fully Paid']"
      ]
     },
     "execution_count": 17,
     "metadata": {},
     "output_type": "execute_result"
    }
   ],
   "source": [
    "# code to show the prediction\n",
    "# gaussNB.fit(X_train, y_train)\n",
    "# y_predG = gaussNB.predict(X_test)\n",
    "y_test\n"
   ]
  },
  {
   "cell_type": "markdown",
   "metadata": {},
   "source": [
    "That's about it for NB. A nice thing about NB is that it doesn't really require any parameters. Lets look at our next technique."
   ]
  },
  {
   "cell_type": "markdown",
   "metadata": {},
   "source": [
    "## 2.2. Support Vector Machines\n",
    "The second model discussed were Support Vector Machines. There is a plural here, because we can use different kernels."
   ]
  },
  {
   "cell_type": "markdown",
   "metadata": {},
   "source": [
    "**<span style ='background:yellow'>\\<explain briefly in your own words how a SVM method works></span>**"
   ]
  },
  {
   "cell_type": "markdown",
   "metadata": {},
   "source": [
    "The basic kernel is the linear one, so we'll attempt that first:"
   ]
  },
  {
   "cell_type": "code",
   "execution_count": 18,
   "metadata": {},
   "outputs": [
    {
     "data": {
      "text/plain": [
       "<matplotlib.collections.PathCollection at 0x1d4f0725310>"
      ]
     },
     "execution_count": 18,
     "metadata": {},
     "output_type": "execute_result"
    },
    {
     "data": {
      "image/png": "[encoded data removed]",
      "text/plain": [
       "<Figure size 432x288 with 1 Axes>"
      ]
     },
     "metadata": {
      "needs_background": "light"
     },
     "output_type": "display_data"
    }
   ],
   "source": [
    "from sklearn.datasets import make_blobs\n",
    "X, y = make_blobs(n_samples=50, centers=2,\n",
    "                  random_state=18, cluster_std=1.60)\n",
    "plt.scatter(X[:, 0], X[:, 1], c=y, s=50)"
   ]
  },
  {
   "cell_type": "code",
   "execution_count": 19,
   "metadata": {},
   "outputs": [],
   "source": [
    "# code to create the model, and fit the data.\n",
    "from sklearn.svm import SVC\n",
    "\n",
    "# Create the model, then fit the model, and determine the predicted values\n",
    "svmLin = SVC(kernel='linear')\n",
    "svmLin.fit(X, y)\n",
    "y_pred = svmLin.predict(X)\n"
   ]
  },
  {
   "cell_type": "markdown",
   "metadata": {},
   "source": [
    "Measuring its performance...."
   ]
  },
  {
   "cell_type": "code",
   "execution_count": 20,
   "metadata": {},
   "outputs": [],
   "source": [
    "# code to show its accuracy score AND confusion matrix.\n"
   ]
  },
  {
   "cell_type": "markdown",
   "metadata": {},
   "source": [
    "**<span style ='background:yellow'>\\<explain all the results. What do the numbers mean? How is this compared to the dummy classifiers, and the NB?></span>**"
   ]
  },
  {
   "cell_type": "markdown",
   "metadata": {},
   "source": [
    "Lets do the same for the other kernels that were discussed, i.e. rbf, polynomial, and sigmoid."
   ]
  },
  {
   "cell_type": "code",
   "execution_count": 21,
   "metadata": {},
   "outputs": [],
   "source": [
    "# code to create the models, fit the data, and show its accuracy score AND confusion matrix.\n",
    "# make sure to print some text between to indicate which result belongs to which model.\n"
   ]
  },
  {
   "cell_type": "markdown",
   "metadata": {},
   "source": [
    "**<span style ='background:yellow'>\\<explain all the results. What do the numbers mean? How is this compared to the dummy classifiers?></span>**"
   ]
  },
  {
   "cell_type": "markdown",
   "metadata": {},
   "source": [
    "Allright, lets move on to the third technique..."
   ]
  },
  {
   "cell_type": "markdown",
   "metadata": {},
   "source": [
    "## 2.3. K-Nearest Neighbors\n",
    "The third technique is the K-Nearest Neighbors (KNN). "
   ]
  },
  {
   "cell_type": "markdown",
   "metadata": {},
   "source": [
    "**<span style ='background:yellow'>\\<explain briefly in your own words how a KNN method works></span>**"
   ]
  },
  {
   "cell_type": "markdown",
   "metadata": {},
   "source": [
    "To use this we need to do some additional steps.\n",
    "\n",
    "First we need to normalize our x variables:"
   ]
  },
  {
   "cell_type": "code",
   "execution_count": 22,
   "metadata": {},
   "outputs": [],
   "source": [
    "# use the StandardScaler to normalize the two x variables\n"
   ]
  },
  {
   "cell_type": "markdown",
   "metadata": {},
   "source": [
    "Second we need to determine how many neighbors (k) we want. To do this we'll visualize the results using different values for k."
   ]
  },
  {
   "cell_type": "code",
   "execution_count": 23,
   "metadata": {},
   "outputs": [],
   "source": [
    "# Code to create the graph with Error Rate vs. K-values.\n"
   ]
  },
  {
   "cell_type": "markdown",
   "metadata": {},
   "source": [
    "**<span style ='background:yellow'>\\<explain the result and your choice for k based on the graph></span>**\n",
    "\n",
    "*Note:* +0.5 if you also use the GridSearch technique to decide on k."
   ]
  },
  {
   "cell_type": "markdown",
   "metadata": {},
   "source": [
    "Now that we know what we want k to be, we can create the model."
   ]
  },
  {
   "cell_type": "code",
   "execution_count": 24,
   "metadata": {},
   "outputs": [],
   "source": [
    "# code to create the model with the selected k\n"
   ]
  },
  {
   "cell_type": "markdown",
   "metadata": {},
   "source": [
    "Lets find out how good it is:"
   ]
  },
  {
   "cell_type": "code",
   "execution_count": 25,
   "metadata": {},
   "outputs": [],
   "source": [
    "# code to show its accuracy score AND confusion matrix.\n"
   ]
  },
  {
   "cell_type": "markdown",
   "metadata": {},
   "source": [
    "**<span style ='background:yellow'>\\<explain all the results. What do the numbers mean? How is this compared to the dummy classifiers, the NB, and the SVM kernels?></span>**"
   ]
  },
  {
   "cell_type": "markdown",
   "metadata": {},
   "source": [
    "One more basic technique to go."
   ]
  },
  {
   "cell_type": "markdown",
   "metadata": {},
   "source": [
    "## 2.4. Decision Trees\n",
    "The last technique that was discussed in detail, were the Decision Trees. "
   ]
  },
  {
   "cell_type": "markdown",
   "metadata": {},
   "source": [
    "**<span style ='background:yellow'>\\<explain briefly in your own words how a Decision Tree method works></span>**"
   ]
  },
  {
   "cell_type": "markdown",
   "metadata": {},
   "source": [
    "The following variations were discussed:\n",
    "\n",
    "* ID3 (or entropy with sklearn)\n",
    "* Gini\n",
    "* Random Forest\n",
    "* Extra trees\n",
    "\n",
    "Hopefully we have the hang of this now, so lets do each of them in one go:"
   ]
  },
  {
   "cell_type": "code",
   "execution_count": 26,
   "metadata": {},
   "outputs": [],
   "source": [
    "# code to create the models, fit the data, and show its accuracy score AND confusion matrix.\n",
    "# make sure to print some text between to indicate which result belongs to which model.\n"
   ]
  },
  {
   "cell_type": "markdown",
   "metadata": {},
   "source": [
    "**<span style ='background:yellow'>\\<explain all the results. What do the numbers mean? How is this compared to the dummy classifiers, the NB, the SVM kernels, and the knn?></span>**"
   ]
  },
  {
   "cell_type": "markdown",
   "metadata": {},
   "source": [
    "One last set of techniques to explore."
   ]
  },
  {
   "cell_type": "markdown",
   "metadata": {},
   "source": [
    "## 2.5. Other Models\n",
    "In the Jupyter Notebook from the lecture, in chapter 5.4 a few more techniques were simply shown:\n",
    "\n",
    "* Linear Discriminant Analysis\n",
    "* Quadratic Discriminant Analysis\n",
    "* Logistic Regression Classifier\n",
    "* Multinomial Logistic Regression Classification\n",
    "* Adaptive Boosting\n",
    "* Gradient Boosting\n",
    "* Histogram Gradient Boosting\n",
    "* XGBoost\n",
    "* Stacking\n",
    "\n",
    "Out of curiousity lets see how these perform."
   ]
  },
  {
   "cell_type": "code",
   "execution_count": 27,
   "metadata": {},
   "outputs": [],
   "source": [
    "# code to create the models, fit the data, and show its accuracy score (the confusion matrix is here optional).\n",
    "# make sure to print some text between to indicate which result belongs to which model.\n"
   ]
  },
  {
   "cell_type": "markdown",
   "metadata": {},
   "source": [
    "**<span style ='background:yellow'>\\<which performed best?></span>**"
   ]
  },
  {
   "cell_type": "markdown",
   "metadata": {},
   "source": [
    "<font size=\"5\"><center>-----Chapters 1 and 2 are required to be fully completed to get a 60, the next few chapters will give a +10 for each chapter.<br> \n",
    "    However the template is not as extensive as the previous chapters. <br>\n",
    "    You can select any chapter below the order is not fixed (you can leave the others empty)<br>\n",
    "    You don't have to use the same dataset for the chapters below. If it helps in clarification you can use another dataset, but then make sure to include it as you submit.\n",
    "    ----</center></font>"
   ]
  },
  {
   "cell_type": "markdown",
   "metadata": {},
   "source": [
    "# 3. Visualisation\n",
    "\n",
    "With two input parameters we can actually determine visually where a model will classify a variable into which category. An overview of such plots is shown at https://scikit-learn.org/stable/auto_examples/classification/plot_classifier_comparison.html\n",
    "\n",
    "We cannot copy that code since it does a comparison. What we want is a function that takes the X and Y data as input, as well as the model to be used and then shows the decision areas."
   ]
  },
  {
   "cell_type": "code",
   "execution_count": 28,
   "metadata": {},
   "outputs": [],
   "source": [
    "# the code for the function\n"
   ]
  },
  {
   "cell_type": "code",
   "execution_count": 29,
   "metadata": {},
   "outputs": [],
   "source": [
    "# an example of using the function\n"
   ]
  },
  {
   "cell_type": "markdown",
   "metadata": {},
   "source": [
    "# 4. Categorical Input\n",
    "With classification we have a categorical output variable, but what if we also have one or more categorical input variables.\n",
    "\n",
    "One popular technique is one-hot-encoding, but there are others.\n",
    "\n",
    "In this chapter we'll discuss **<span style ='background:yellow'>\\<your chosen technique></span>**."
   ]
  },
  {
   "cell_type": "markdown",
   "metadata": {},
   "source": [
    "**<span style ='background:yellow'>\\<explain the technique in detail. What does it do and how does it work></span>**"
   ]
  },
  {
   "cell_type": "code",
   "execution_count": 30,
   "metadata": {},
   "outputs": [],
   "source": [
    "# example code of using this technique\n"
   ]
  },
  {
   "cell_type": "markdown",
   "metadata": {},
   "source": [
    "# 5. Performance\n",
    "Some models get higher accuracy scores than others. In the Jupyter Notebook from the lecture the UFC data was used and the QDA had the highest accuracy score: 0.6747. The big question is, can it be done better? First areas to look for improvement are to simply increase the number of input variables, or tweak some parameters of some of the models, or a combination of both.\n",
    "\n",
    "In this chapter we'll give it an attempt.\n",
    "\n",
    "First we need to load the data:"
   ]
  },
  {
   "cell_type": "code",
   "execution_count": 31,
   "metadata": {},
   "outputs": [],
   "source": [
    "# code to load the UFC data\n"
   ]
  },
  {
   "cell_type": "markdown",
   "metadata": {},
   "source": [
    "**<span style ='background:yellow'>\\<explain your attempt, what did you do.></span>**"
   ]
  },
  {
   "cell_type": "code",
   "execution_count": 32,
   "metadata": {},
   "outputs": [],
   "source": [
    "# code that will generate an accuracy score for the outcome that is higher than 0.6747\n"
   ]
  },
  {
   "cell_type": "markdown",
   "metadata": {},
   "source": [
    "# 6. A New Technique\n",
    "\n",
    "Many techniques were discussed in class and the lecture Jupyter Notebook, but there are a lot more. In this chapter the \\<your chosen new technique> is discussed."
   ]
  },
  {
   "cell_type": "markdown",
   "metadata": {},
   "source": [
    "**<span style ='background:yellow'>\\<explain in detail this new technique. Note that other students should be able to understand it from your explanation alone!></span>**"
   ]
  },
  {
   "cell_type": "code",
   "execution_count": 33,
   "metadata": {},
   "outputs": [],
   "source": [
    "# code on using this technique\n"
   ]
  },
  {
   "cell_type": "markdown",
   "metadata": {},
   "source": [
    "**<span style ='background:yellow'>\\<feel free to use more cells for this, you probably need them></span>**"
   ]
  },
  {
   "cell_type": "code",
   "execution_count": null,
   "metadata": {},
   "outputs": [],
   "source": []
  }
 ],
 "metadata": {
  "interpreter": {
   "hash": "00bf95732aee19c85abdc84fa703c78cef779cebdbaf065a1f0bfee5e72e26be"
  },
  "kernelspec": {
   "display_name": "Python 3.9.7 64-bit",
   "language": "python",
   "name": "python3"
  },
  "language_info": {
   "codemirror_mode": {
    "name": "ipython",
    "version": 3
   },
   "file_extension": ".py",
   "mimetype": "text/x-python",
   "name": "python",
   "nbconvert_exporter": "python",
   "pygments_lexer": "ipython3",
   "version": "3.9.7"
  }
 },
 "nbformat": 4,
 "nbformat_minor": 4
}
