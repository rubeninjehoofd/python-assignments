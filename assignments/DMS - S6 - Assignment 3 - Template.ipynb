{
 "cells": [
  {
   "cell_type": "markdown",
   "metadata": {},
   "source": [
    "**this is a template notebook for Assignment 3 on Classification. To get a 60 you will need to complete chapter 1.\n",
    "    The template is also just an indication. You can add more cells if needed, and can of course delete this line**"
   ]
  },
  {
   "cell_type": "markdown",
   "metadata": {},
   "source": [
    "# Clustering\n",
    "Author: Ruben Schild<br>\n",
    "Student number: 650580<br>\n",
    "Date: 25-5-2022</span>"
   ]
  },
  {
   "cell_type": "markdown",
   "metadata": {},
   "source": [
    "For this notebook to work you must have installed the following packages (usually via pip install *packageName*:\n",
    "* numpy\n",
    "* pandas\n",
    "* **\\<add other packages\\>**\n",
    "\n",
    "From these we will need the following libraries:"
   ]
  },
  {
   "cell_type": "code",
   "execution_count": 1,
   "metadata": {},
   "outputs": [
    {
     "name": "stdout",
     "output_type": "stream",
     "text": [
      "Pandas already installed, only imported\n",
      "NumPy already installed, only imported\n",
      "PyPlot already installed, only imported\n",
      "seaborn already installed, only imported\n",
      "statsmodels already installed, only imported\n",
      "sklearn already installed, only imported\n",
      "eli5 already installed, only imported\n",
      "svm installed\n",
      "xgboost installed\n",
      "hdbscan installed\n"
     ]
    }
   ],
   "source": [
    "# pandas as pd\n",
    "try:\n",
    "    import pandas as pd\n",
    "    print('Pandas already installed, only imported')\n",
    "except:\n",
    "    !pip install pandas\n",
    "    import pandas as pd\n",
    "    print('Pandas was not installed, installed and imported')\n",
    "    \n",
    "# numpy as np\n",
    "try:\n",
    "    import numpy as np\n",
    "    print('NumPy already installed, only imported')\n",
    "except:\n",
    "    !pip install numpy\n",
    "    import numpy as np\n",
    "    print('NumPy was not installed, installed and imported')\n",
    "    \n",
    "# pyplot as plt\n",
    "try:\n",
    "    import matplotlib.pyplot as plt\n",
    "    print('PyPlot already installed, only imported')\n",
    "except:\n",
    "    !pip install matplotlib\n",
    "    import matplotlib.pyplot as plt\n",
    "    print('PyPlot was not installed, installed and imported')    \n",
    "\n",
    "# sns\n",
    "\n",
    "try: \n",
    "    import seaborn as sns\n",
    "    print('seaborn already installed, only imported')\n",
    "except:\n",
    "    !pip install seaborn\n",
    "    print('seaborn was not installed, installed and imported')\n",
    "\n",
    "try:\n",
    "    import statsmodels.api as sm\n",
    "    print('statsmodels already installed, only imported')\n",
    "\n",
    "except:\n",
    "    !pip install statsmodels\n",
    "    print('statsmodels was not installed, installed and imported')\n",
    "\n",
    "# sklearn\n",
    "try:\n",
    "    from sklearn.linear_model import LinearRegression\n",
    "    print('sklearn already installed, only imported')\n",
    "except:\n",
    "    !pip install sklearn\n",
    "    from sklearn.linear_model import LinearRegression\n",
    "    print('sklearn was not installed, installed and imported')\n",
    "\n",
    "from sklearn import metrics\n",
    "\n",
    "try:\n",
    "    import eli5\n",
    "    print('eli5 already installed, only imported')\n",
    "except:\n",
    "    !pip install eli5\n",
    "    import eli5\n",
    "    print('eli5 was not installed, installed and imported')\n",
    "\n",
    "from eli5.sklearn import PermutationImportance\n",
    "\n",
    "try:\n",
    "    import sklearn.svm\n",
    "    print('svm installed')\n",
    "except:\n",
    "    print('not installed')\n",
    "\n",
    "try:\n",
    "    import xgboost\n",
    "    print('xgboost installed')\n",
    "except:\n",
    "    !pip install xgboost\n",
    "    print('not installed')\n",
    "\n",
    "try:\n",
    "    import hdbscan\n",
    "    print('hdbscan installed')\n",
    "except:\n",
    "    !pip install hdbscan\n",
    "    print('hdbscan not installed')\n",
    "\n"
   ]
  },
  {
   "cell_type": "markdown",
   "metadata": {},
   "source": [
    "# 1. The Soccer Classification\n",
    "\n",
    "In the Jupyter Notebook from lecture 6 there was one exercise using the k-means clustering, using the Soccer data. In this chapter we'll repeat that and also see how the other models perform with this data.\n",
    "\n",
    "First we'll need to load the data itself."
   ]
  },
  {
   "cell_type": "code",
   "execution_count": 2,
   "metadata": {},
   "outputs": [
    {
     "data": {
      "text/html": [
       "<div>\n",
       "<style scoped>\n",
       "    .dataframe tbody tr th:only-of-type {\n",
       "        vertical-align: middle;\n",
       "    }\n",
       "\n",
       "    .dataframe tbody tr th {\n",
       "        vertical-align: top;\n",
       "    }\n",
       "\n",
       "    .dataframe thead th {\n",
       "        text-align: right;\n",
       "    }\n",
       "</style>\n",
       "<table border=\"1\" class=\"dataframe\">\n",
       "  <thead>\n",
       "    <tr style=\"text-align: right;\">\n",
       "      <th></th>\n",
       "      <th>Unnamed: 0</th>\n",
       "      <th>ID</th>\n",
       "      <th>Name</th>\n",
       "      <th>Age</th>\n",
       "      <th>Photo</th>\n",
       "      <th>Nationality</th>\n",
       "      <th>Flag</th>\n",
       "      <th>Overall</th>\n",
       "      <th>Potential</th>\n",
       "      <th>Club</th>\n",
       "      <th>...</th>\n",
       "      <th>Composure</th>\n",
       "      <th>Marking</th>\n",
       "      <th>StandingTackle</th>\n",
       "      <th>SlidingTackle</th>\n",
       "      <th>GKDiving</th>\n",
       "      <th>GKHandling</th>\n",
       "      <th>GKKicking</th>\n",
       "      <th>GKPositioning</th>\n",
       "      <th>GKReflexes</th>\n",
       "      <th>Release Clause</th>\n",
       "    </tr>\n",
       "  </thead>\n",
       "  <tbody>\n",
       "    <tr>\n",
       "      <th>0</th>\n",
       "      <td>2</td>\n",
       "      <td>190871</td>\n",
       "      <td>Neymar Jr</td>\n",
       "      <td>26</td>\n",
       "      <td>https://cdn.sofifa.org/players/4/19/190871.png</td>\n",
       "      <td>Brazil</td>\n",
       "      <td>https://cdn.sofifa.org/flags/54.png</td>\n",
       "      <td>92</td>\n",
       "      <td>93</td>\n",
       "      <td>Paris Saint-Germain</td>\n",
       "      <td>...</td>\n",
       "      <td>94</td>\n",
       "      <td>27</td>\n",
       "      <td>24</td>\n",
       "      <td>33</td>\n",
       "      <td>9</td>\n",
       "      <td>9</td>\n",
       "      <td>15</td>\n",
       "      <td>15</td>\n",
       "      <td>11</td>\n",
       "      <td>€228.1M</td>\n",
       "    </tr>\n",
       "    <tr>\n",
       "      <th>1</th>\n",
       "      <td>0</td>\n",
       "      <td>158023</td>\n",
       "      <td>L. Messi</td>\n",
       "      <td>31</td>\n",
       "      <td>https://cdn.sofifa.org/players/4/19/158023.png</td>\n",
       "      <td>Argentina</td>\n",
       "      <td>https://cdn.sofifa.org/flags/52.png</td>\n",
       "      <td>94</td>\n",
       "      <td>94</td>\n",
       "      <td>FC Barcelona</td>\n",
       "      <td>...</td>\n",
       "      <td>96</td>\n",
       "      <td>33</td>\n",
       "      <td>28</td>\n",
       "      <td>26</td>\n",
       "      <td>6</td>\n",
       "      <td>11</td>\n",
       "      <td>15</td>\n",
       "      <td>14</td>\n",
       "      <td>8</td>\n",
       "      <td>€226.5M</td>\n",
       "    </tr>\n",
       "    <tr>\n",
       "      <th>2</th>\n",
       "      <td>4</td>\n",
       "      <td>192985</td>\n",
       "      <td>K. De Bruyne</td>\n",
       "      <td>27</td>\n",
       "      <td>https://cdn.sofifa.org/players/4/19/192985.png</td>\n",
       "      <td>Belgium</td>\n",
       "      <td>https://cdn.sofifa.org/flags/7.png</td>\n",
       "      <td>91</td>\n",
       "      <td>92</td>\n",
       "      <td>Manchester City</td>\n",
       "      <td>...</td>\n",
       "      <td>88</td>\n",
       "      <td>68</td>\n",
       "      <td>58</td>\n",
       "      <td>51</td>\n",
       "      <td>15</td>\n",
       "      <td>13</td>\n",
       "      <td>5</td>\n",
       "      <td>10</td>\n",
       "      <td>13</td>\n",
       "      <td>€196.4M</td>\n",
       "    </tr>\n",
       "    <tr>\n",
       "      <th>3</th>\n",
       "      <td>5</td>\n",
       "      <td>183277</td>\n",
       "      <td>E. Hazard</td>\n",
       "      <td>27</td>\n",
       "      <td>https://cdn.sofifa.org/players/4/19/183277.png</td>\n",
       "      <td>Belgium</td>\n",
       "      <td>https://cdn.sofifa.org/flags/7.png</td>\n",
       "      <td>91</td>\n",
       "      <td>91</td>\n",
       "      <td>Chelsea</td>\n",
       "      <td>...</td>\n",
       "      <td>91</td>\n",
       "      <td>34</td>\n",
       "      <td>27</td>\n",
       "      <td>22</td>\n",
       "      <td>11</td>\n",
       "      <td>12</td>\n",
       "      <td>6</td>\n",
       "      <td>8</td>\n",
       "      <td>8</td>\n",
       "      <td>€172.1M</td>\n",
       "    </tr>\n",
       "    <tr>\n",
       "      <th>4</th>\n",
       "      <td>15</td>\n",
       "      <td>211110</td>\n",
       "      <td>P. Dybala</td>\n",
       "      <td>24</td>\n",
       "      <td>https://cdn.sofifa.org/players/4/19/211110.png</td>\n",
       "      <td>Argentina</td>\n",
       "      <td>https://cdn.sofifa.org/flags/52.png</td>\n",
       "      <td>89</td>\n",
       "      <td>94</td>\n",
       "      <td>Juventus</td>\n",
       "      <td>...</td>\n",
       "      <td>84</td>\n",
       "      <td>23</td>\n",
       "      <td>20</td>\n",
       "      <td>20</td>\n",
       "      <td>5</td>\n",
       "      <td>4</td>\n",
       "      <td>4</td>\n",
       "      <td>5</td>\n",
       "      <td>8</td>\n",
       "      <td>€153.5M</td>\n",
       "    </tr>\n",
       "  </tbody>\n",
       "</table>\n",
       "<p>5 rows × 89 columns</p>\n",
       "</div>"
      ],
      "text/plain": [
       "   Unnamed: 0      ID          Name  Age  \\\n",
       "0           2  190871     Neymar Jr   26   \n",
       "1           0  158023      L. Messi   31   \n",
       "2           4  192985  K. De Bruyne   27   \n",
       "3           5  183277     E. Hazard   27   \n",
       "4          15  211110     P. Dybala   24   \n",
       "\n",
       "                                            Photo Nationality  \\\n",
       "0  https://cdn.sofifa.org/players/4/19/190871.png      Brazil   \n",
       "1  https://cdn.sofifa.org/players/4/19/158023.png   Argentina   \n",
       "2  https://cdn.sofifa.org/players/4/19/192985.png     Belgium   \n",
       "3  https://cdn.sofifa.org/players/4/19/183277.png     Belgium   \n",
       "4  https://cdn.sofifa.org/players/4/19/211110.png   Argentina   \n",
       "\n",
       "                                  Flag  Overall  Potential  \\\n",
       "0  https://cdn.sofifa.org/flags/54.png       92         93   \n",
       "1  https://cdn.sofifa.org/flags/52.png       94         94   \n",
       "2   https://cdn.sofifa.org/flags/7.png       91         92   \n",
       "3   https://cdn.sofifa.org/flags/7.png       91         91   \n",
       "4  https://cdn.sofifa.org/flags/52.png       89         94   \n",
       "\n",
       "                  Club  ... Composure  Marking StandingTackle  SlidingTackle  \\\n",
       "0  Paris Saint-Germain  ...        94       27             24             33   \n",
       "1         FC Barcelona  ...        96       33             28             26   \n",
       "2      Manchester City  ...        88       68             58             51   \n",
       "3              Chelsea  ...        91       34             27             22   \n",
       "4             Juventus  ...        84       23             20             20   \n",
       "\n",
       "  GKDiving  GKHandling  GKKicking  GKPositioning GKReflexes Release Clause  \n",
       "0        9           9         15             15         11        €228.1M  \n",
       "1        6          11         15             14          8        €226.5M  \n",
       "2       15          13          5             10         13        €196.4M  \n",
       "3       11          12          6              8          8        €172.1M  \n",
       "4        5           4          4              5          8        €153.5M  \n",
       "\n",
       "[5 rows x 89 columns]"
      ]
     },
     "execution_count": 2,
     "metadata": {},
     "output_type": "execute_result"
    }
   ],
   "source": [
    "# enter code to load the Soccer2019C.csv file\n",
    "soccer_df = pd.read_csv('../data/Soccer2019C.csv')\n",
    "soccer_df.head()"
   ]
  },
  {
   "cell_type": "markdown",
   "metadata": {},
   "source": [
    "We were interested to find any classes in 'Finishing' and 'HeadingAccuracy'. So lets select those from the data."
   ]
  },
  {
   "cell_type": "code",
   "execution_count": 3,
   "metadata": {},
   "outputs": [],
   "source": [
    "# enter code to select the two variables, make sure to also remove the missing values.\n",
    "cust_x = soccer_df[['Finishing', 'HeadingAccuracy']].dropna()"
   ]
  },
  {
   "cell_type": "markdown",
   "metadata": {},
   "source": [
    "A visual might be nice, so lets show the scatterplot of these two:"
   ]
  },
  {
   "cell_type": "code",
   "execution_count": 4,
   "metadata": {},
   "outputs": [
    {
     "data": {
      "text/plain": [
       "<matplotlib.collections.PathCollection at 0x250dd747e80>"
      ]
     },
     "execution_count": 4,
     "metadata": {},
     "output_type": "execute_result"
    },
    {
     "data": {
      "image/png": "[encoded data removed]",
      "text/plain": [
       "<Figure size 432x288 with 1 Axes>"
      ]
     },
     "metadata": {
      "needs_background": "light"
     },
     "output_type": "display_data"
    }
   ],
   "source": [
    "# code to create the scatterplot\n",
    "plt.scatter(cust_x['Finishing'], cust_x['HeadingAccuracy'])"
   ]
  },
  {
   "cell_type": "markdown",
   "metadata": {},
   "source": [
    "**<span >\\<describe what you see, how many clusters would we expect?></span>** <br>\n",
    "If we look at the scatterplot, it looks like there are 2 clusters... "
   ]
  },
  {
   "cell_type": "markdown",
   "metadata": {},
   "source": [
    "Now that we have the data, lets begin with the classification."
   ]
  },
  {
   "cell_type": "markdown",
   "metadata": {},
   "source": [
    "# 1.1. K-Means\n",
    "\n",
    "The first, and probably most famous, technique discussed was the k-means. "
   ]
  },
  {
   "cell_type": "markdown",
   "metadata": {},
   "source": [
    "**<span >\\<explain how k-means technique works in your own words></span>**. <br>\n",
    "\n",
    "k-means technique is a centroid method. K-means uses centers to randomly choose points in the data, and assign every datapoint to the nearest center. When every point has been assigned, the center is moved to the average of all the assigned points."
   ]
  },
  {
   "cell_type": "markdown",
   "metadata": {},
   "source": [
    "We think there are two clusters, so lets first use that and set the k-means model using k=2. We'll use Elkan's algorithm, rather than full just to speed things along."
   ]
  },
  {
   "cell_type": "code",
   "execution_count": 7,
   "metadata": {},
   "outputs": [
    {
     "data": {
      "text/plain": [
       "KMeans(algorithm='elkan', init='random', n_clusters=2, random_state=0)"
      ]
     },
     "execution_count": 7,
     "metadata": {},
     "output_type": "execute_result"
    }
   ],
   "source": [
    "# code to create and fit the k-means model (with elkan and full) \n",
    "from sklearn.cluster import KMeans\n",
    "\n",
    "kmeans = KMeans(init='random', algorithm='elkan', n_clusters=2, random_state=0)\n",
    "kmeans.fit(cust_x)"
   ]
  },
  {
   "cell_type": "markdown",
   "metadata": {},
   "source": [
    "Great, now lets see the result..."
   ]
  },
  {
   "cell_type": "code",
   "execution_count": 8,
   "metadata": {},
   "outputs": [
    {
     "data": {
      "text/plain": [
       "<matplotlib.collections.PathCollection at 0x250df014f10>"
      ]
     },
     "execution_count": 8,
     "metadata": {},
     "output_type": "execute_result"
    },
    {
     "data": {
      "image/png": "[encoded data removed]",
      "text/plain": [
       "<Figure size 432x288 with 1 Axes>"
      ]
     },
     "metadata": {
      "needs_background": "light"
     },
     "output_type": "display_data"
    }
   ],
   "source": [
    "# code to create scatterplot with the classification\n",
    "plt.scatter(cust_x['Finishing'], cust_x['HeadingAccuracy'], c=kmeans.labels_, cmap='rainbow')"
   ]
  },
  {
   "cell_type": "markdown",
   "metadata": {},
   "source": [
    "**<span >\\<describe the result, is it what you'd hoped for? Explain why this might be (think of how k-means works)></span>** <br>\n",
    "## Not yet done\n",
    "If you look at the picture, you would probably have expected that the group left below would have been 1 cluster with a few spots around it. But it seems that some of the red cluster also became purple. Not a nice split up for 2 expected clusters. <br>\n"
   ]
  },
  {
   "cell_type": "markdown",
   "metadata": {},
   "source": [
    "Perhaps another initialization method works better. K-means++ is quite popular. "
   ]
  },
  {
   "cell_type": "markdown",
   "metadata": {},
   "source": [
    "**<span >\\<explain briefly how k-means++ is different from k-means in your own words></span>**.<br>\n",
    "K-means++, unlike k-means, searches for one centroid randomly and then start looking for other centroids. K-means just starts looking for multiple centroids randomly and afterwards it starts looking for 'better' solutions"
   ]
  },
  {
   "cell_type": "markdown",
   "metadata": {},
   "source": [
    "Lets see:"
   ]
  },
  {
   "cell_type": "code",
   "execution_count": 14,
   "metadata": {},
   "outputs": [
    {
     "data": {
      "text/plain": [
       "<matplotlib.collections.PathCollection at 0x250df241fa0>"
      ]
     },
     "execution_count": 14,
     "metadata": {},
     "output_type": "execute_result"
    },
    {
     "data": {
      "image/png": "[encoded data removed]",
      "text/plain": [
       "<Figure size 432x288 with 1 Axes>"
      ]
     },
     "metadata": {
      "needs_background": "light"
     },
     "output_type": "display_data"
    }
   ],
   "source": [
    "# code to create and fit the k-means++ (elkan) and also show the scatterplot\n",
    "kmeans_plus = KMeans(init='k-means++', algorithm='elkan', n_clusters=2, random_state=0)\n",
    "kmeans_plus.fit(cust_x)\n",
    "plt.scatter(cust_x['Finishing'], cust_x['HeadingAccuracy'], c=kmeans_plus.labels_, cmap='rainbow')\n"
   ]
  },
  {
   "cell_type": "markdown",
   "metadata": {},
   "source": [
    "**<span >\\<describe the result, is it what you'd hoped for?></span>**<br>\n",
    "As you can see, we get a similar result as with the normal k-means. Not what we wanted."
   ]
  },
  {
   "cell_type": "markdown",
   "metadata": {},
   "source": [
    "Perhaps the k=2 is wrong. We could try to iterate over different values of k and measure the performance with a few different metrics.\n",
    "\n",
    "We'll use the same function as in the Jupyter Notebook from the lecture:"
   ]
  },
  {
   "cell_type": "code",
   "execution_count": 15,
   "metadata": {},
   "outputs": [],
   "source": [
    "# copy the elbowPlot function, and if you like you can adjust it.\n",
    "\n",
    "from yellowbrick.cluster import KElbowVisualizer\n",
    "\n",
    "def elbowPlot(data, model, kRange):\n",
    "\n",
    "    # set the plotting stage for later\n",
    "    fig, (ax1, ax2, ax3) = plt.subplots(\n",
    "        1, 3, constrained_layout=True, figsize=(15, 5))\n",
    "\n",
    "    # Using the Distortion measure:\n",
    "    visualizer = KElbowVisualizer(model, k=kRange, metric='distortion', ax=ax1)\n",
    "    chPlot = visualizer.fit(data)\n",
    "    ax1.set_title('Distortion')\n",
    "\n",
    "    # Using the Calinski-Harabasz measure\n",
    "    visualizer = KElbowVisualizer(\n",
    "        model, k=kRange, metric='calinski_harabasz', ax=ax2)\n",
    "    chPlot = visualizer.fit(data)\n",
    "    ax2.set_title('Calinski-Harabasz')\n",
    "\n",
    "    # Using the Silhouette measure\n",
    "    visualizer = KElbowVisualizer(model, k=kRange, metric='silhouette', ax=ax3)\n",
    "    chPlot = visualizer.fit(data)\n",
    "    ax3.set_title('Silhouette')\n",
    "\n",
    "    # Show the results\n",
    "    plt.show()\n"
   ]
  },
  {
   "cell_type": "markdown",
   "metadata": {},
   "source": [
    "Now lets see what this gives for our Soccer data:"
   ]
  },
  {
   "cell_type": "code",
   "execution_count": 16,
   "metadata": {},
   "outputs": [
    {
     "data": {
      "image/png": "[encoded data removed]",
      "text/plain": [
       "<Figure size 1080x360 with 6 Axes>"
      ]
     },
     "metadata": {},
     "output_type": "display_data"
    }
   ],
   "source": [
    "# code to show the three elbow plots (this might take a little time)\n",
    "elbowPlot(cust_x, kmeans_plus, (2,10))"
   ]
  },
  {
   "cell_type": "markdown",
   "metadata": {},
   "source": [
    "**<span >\\<Explain the results: which k is recommended AND what does 'Distortion', 'Calinski-Harabasz', and 'Silhouette' actually measure (briefly explain the difference in your own words></span>** <br>\n",
    "Well we got it wrong with k=2. It seems that k=4 is recommended. <br>\n",
    "\n",
    "You are also probably wondering what 'Distortion', 'Calinski-Harabasz', and 'Silhouette' means. Well....."
   ]
  },
  {
   "cell_type": "markdown",
   "metadata": {},
   "source": [
    "Lets see what happens if we use the recommended k value:"
   ]
  },
  {
   "cell_type": "code",
   "execution_count": 17,
   "metadata": {},
   "outputs": [
    {
     "data": {
      "text/plain": [
       "<matplotlib.collections.PathCollection at 0x250e078cdf0>"
      ]
     },
     "execution_count": 17,
     "metadata": {},
     "output_type": "execute_result"
    },
    {
     "data": {
      "image/png": "[encoded data removed]",
      "text/plain": [
       "<Figure size 576x396 with 1 Axes>"
      ]
     },
     "metadata": {},
     "output_type": "display_data"
    }
   ],
   "source": [
    "# code to create and fit the k-means++ (full) and also show the scatterplot with the k value from the elbow plot\n",
    "# code to create and fit the k-means++ (elkan) and also show the scatterplot\n",
    "kmeans_plus = KMeans(init='k-means++', algorithm='elkan', n_clusters=4, random_state=0)\n",
    "kmeans_plus.fit(cust_x)\n",
    "plt.scatter(cust_x['Finishing'], cust_x['HeadingAccuracy'], c=kmeans_plus.labels_, cmap='rainbow')\n"
   ]
  },
  {
   "cell_type": "markdown",
   "metadata": {},
   "source": [
    "**<span style='background:yellow'>\\<describe the result, is it what you'd hoped for?></span>**"
   ]
  },
  {
   "cell_type": "markdown",
   "metadata": {},
   "source": [
    "Now lets see if another technique might do better (or worse)."
   ]
  },
  {
   "cell_type": "markdown",
   "metadata": {},
   "source": [
    "## 1.2. Hierarchical Clustering Analysis (HCA)\n",
    "\n",
    "The second technique discussed was the Hierarchical Clustering Analysis (HCA). "
   ]
  },
  {
   "cell_type": "markdown",
   "metadata": {},
   "source": [
    "**<span style='background:yellow'>\\<explain how this technique works in your own words></span>**."
   ]
  },
  {
   "cell_type": "markdown",
   "metadata": {},
   "source": [
    "One selection to be made is the so-called 'linkage'. The four basic ones are 'single', 'complete', 'mean', and 'ward'."
   ]
  },
  {
   "cell_type": "markdown",
   "metadata": {},
   "source": [
    "**<span style='background:yellow'>\\<give a brief description of each of these linkage options></span>**"
   ]
  },
  {
   "cell_type": "markdown",
   "metadata": {},
   "source": [
    "In the Jupyter Notebook from the lecture there was a function that can compare these four options in one go. Lets use that here as well."
   ]
  },
  {
   "cell_type": "code",
   "execution_count": null,
   "metadata": {},
   "outputs": [],
   "source": [
    "# copy the compareLinkage function, and if you like you can adjust it.\n"
   ]
  },
  {
   "cell_type": "markdown",
   "metadata": {},
   "source": [
    "Now lets use it on the Soccer data. We assumed there to be 2 clusters, so we'll stick with our k = 2 for now."
   ]
  },
  {
   "cell_type": "code",
   "execution_count": null,
   "metadata": {},
   "outputs": [],
   "source": [
    "# code to create the four HCA linkage models and scatterplot (use the function)\n"
   ]
  },
  {
   "cell_type": "markdown",
   "metadata": {},
   "source": [
    "**<span style='background:yellow'>\\<what do you notice? Are they all the same? What might cause the differences?></span>**"
   ]
  },
  {
   "cell_type": "markdown",
   "metadata": {},
   "source": [
    "Would the k = 2 perhaps again be different? Lets find out. We can use our 'elbowPlot' function here as well."
   ]
  },
  {
   "cell_type": "code",
   "execution_count": null,
   "metadata": {},
   "outputs": [],
   "source": [
    "# code to run the elbowPlot four times (ones for each different linkage) (this might take quite some time)\n",
    "# print something between so you know which output belongs to which linkage\n"
   ]
  },
  {
   "cell_type": "markdown",
   "metadata": {},
   "source": [
    "**<span style='background:yellow'>\\<are there any other suggestions for k than 2? What seems to be the most common suggestion (the modal suggestion)?></span>**"
   ]
  },
  {
   "cell_type": "markdown",
   "metadata": {},
   "source": [
    "A few different k-s are suggested by the elbow plot. Lets see how our HCA performs if we use those."
   ]
  },
  {
   "cell_type": "code",
   "execution_count": null,
   "metadata": {},
   "outputs": [],
   "source": [
    "# code to show the four linkages for the different suggested k's from the elbow plots.\n"
   ]
  },
  {
   "cell_type": "markdown",
   "metadata": {},
   "source": [
    "**<span style='background:yellow'>\\<what can be concluded from the result? how did HCA compare to our k-means></span>**"
   ]
  },
  {
   "cell_type": "markdown",
   "metadata": {},
   "source": [
    "The dendrogram is also often used. Lets at least produce it once."
   ]
  },
  {
   "cell_type": "code",
   "execution_count": null,
   "metadata": {},
   "outputs": [],
   "source": [
    "# code to show at least one dendrogram. (if your kernel crashes on this, show a dendrogram of a selected portion of the data)\n"
   ]
  },
  {
   "cell_type": "code",
   "execution_count": null,
   "metadata": {},
   "outputs": [],
   "source": [
    "# if dendrogram is too large, code to zoom in.\n"
   ]
  },
  {
   "cell_type": "markdown",
   "metadata": {},
   "source": [
    "Allright, two techniques down, lets move on to the third..."
   ]
  },
  {
   "cell_type": "markdown",
   "metadata": {},
   "source": [
    "## 1.3. DBSCAN\n",
    "\n",
    "The third technique discussed was the Density Based Spatial Clustering of Applications with Noise (DBSCAN)."
   ]
  },
  {
   "cell_type": "markdown",
   "metadata": {},
   "source": [
    "**<span style='background:yellow'>\\<explain how this technique works in your own words></span>**."
   ]
  },
  {
   "cell_type": "markdown",
   "metadata": {},
   "source": [
    "This method will require two input parameters. The epsilon and the min number of samples.\n",
    "\n",
    "As the min number of samples I have chosen for **<span style='background:yellow'>\\<enter your value here></span>**.\n",
    "\n",
    "For the epsilon we can create a visual aid using the nearest neighbors."
   ]
  },
  {
   "cell_type": "code",
   "execution_count": null,
   "metadata": {},
   "outputs": [],
   "source": [
    "# code to show the nearest neighbors plot with different distances\n"
   ]
  },
  {
   "cell_type": "markdown",
   "metadata": {},
   "source": [
    "**<span style='background:yellow'>\\<interpret the result, what would be a good epsilon?></span>**"
   ]
  },
  {
   "cell_type": "markdown",
   "metadata": {},
   "source": [
    "Now that we have a min number of points for a neighborhood, and an epsilon we can run the DBSCAN."
   ]
  },
  {
   "cell_type": "code",
   "execution_count": null,
   "metadata": {},
   "outputs": [],
   "source": [
    "# code to create and fit the DBSCAN model.\n"
   ]
  },
  {
   "cell_type": "markdown",
   "metadata": {},
   "source": [
    "Lets look at the results:"
   ]
  },
  {
   "cell_type": "code",
   "execution_count": null,
   "metadata": {},
   "outputs": [],
   "source": [
    "# code to show the scatterplot with the clusters\n"
   ]
  },
  {
   "cell_type": "markdown",
   "metadata": {},
   "source": [
    "**<span style='background:yellow'>\\<describe the result, how does it compare to the other models, what might cause this></span>**"
   ]
  },
  {
   "cell_type": "markdown",
   "metadata": {},
   "source": [
    "There was one more technique discussed, the almost perfect HDBSCAN..."
   ]
  },
  {
   "cell_type": "markdown",
   "metadata": {},
   "source": [
    "## 1.4. HDBSCAN\n",
    "\n",
    "The fourth technique was the Hierachical Density Based Spatial Clustering of Applications with Noise (HDBSCAN)."
   ]
  },
  {
   "cell_type": "markdown",
   "metadata": {},
   "source": [
    "**<span style='background:yellow'>\\<explain how this technique is different from DBSCAN in your own words></span>**."
   ]
  },
  {
   "cell_type": "markdown",
   "metadata": {},
   "source": [
    "One big advantage of this technique is that it only requires one input parameter: the min samples. We can use the same as from DBSCAN. So lets dive right in."
   ]
  },
  {
   "cell_type": "code",
   "execution_count": null,
   "metadata": {},
   "outputs": [],
   "source": [
    "# code to create and fit the HDBSCAN model.\n"
   ]
  },
  {
   "cell_type": "markdown",
   "metadata": {},
   "source": [
    "And the result...."
   ]
  },
  {
   "cell_type": "code",
   "execution_count": null,
   "metadata": {},
   "outputs": [],
   "source": [
    "# code to show the scatterplot with the clusters\n"
   ]
  },
  {
   "cell_type": "markdown",
   "metadata": {},
   "source": [
    "**<span style='background:yellow'>\\<describe the result, how does it compare to the other models></span>**"
   ]
  },
  {
   "cell_type": "markdown",
   "metadata": {},
   "source": [
    "The HDBSCAN actually goes through a few steps: The minimum spanning tree => the dendrogram => the condensed tree.\n",
    "\n",
    "In the Jupyter Notebook from the lecture, a small function was made to show these. "
   ]
  },
  {
   "cell_type": "code",
   "execution_count": null,
   "metadata": {},
   "outputs": [],
   "source": [
    "# code of the HDBSCANvisuals function, adjust if needed/wanted/improvements.\n"
   ]
  },
  {
   "cell_type": "markdown",
   "metadata": {},
   "source": [
    "So for those who like to see what is going on in these stages:"
   ]
  },
  {
   "cell_type": "code",
   "execution_count": null,
   "metadata": {},
   "outputs": [],
   "source": [
    "# code using the function to show the three visuals. Note if your kernel crashes with this, you can use a sample set from the data.\n"
   ]
  },
  {
   "cell_type": "markdown",
   "metadata": {},
   "source": [
    "## 1.5. Adjusting the Data\n",
    "\n",
    "We used the unadjusted data, but often a normalization is used. What would the results have been, if we had first normalized our scores using the StandardScaler.\n",
    "\n",
    "Lets find out.\n",
    "\n",
    "First transform the data:"
   ]
  },
  {
   "cell_type": "code",
   "execution_count": null,
   "metadata": {},
   "outputs": [],
   "source": [
    "# code using the StandardScaler to transform the data.\n"
   ]
  },
  {
   "cell_type": "markdown",
   "metadata": {},
   "source": [
    "Now lets see all the results again, but using this scaled data."
   ]
  },
  {
   "cell_type": "code",
   "execution_count": null,
   "metadata": {},
   "outputs": [],
   "source": [
    "# long code cell with all the different models using the scaled data. Output should each time be the scatterplot.\n",
    "# you could add some other cells first to find perhaps some parameters.\n"
   ]
  },
  {
   "cell_type": "markdown",
   "metadata": {},
   "source": [
    "**<span style='background:yellow'>\\<how do the results compare when using the unadjusted data?></span>**"
   ]
  },
  {
   "cell_type": "markdown",
   "metadata": {},
   "source": [
    "<font size=\"5\"><center>-----Chapters 1 is required to be fully completed to get a 60, the next few chapters will give a +10 for each chapter.<br> \n",
    "    However the template for those chapters is not as extensive as the previous chapters. <br>\n",
    "    You can select any chapter below the order is not fixed (you can leave the others empty)<br>\n",
    "    You don't have to use the same dataset for the chapters below. If it helps in clarification you can use another dataset, but then make sure to include it as you submit.\n",
    "    ----</center></font>"
   ]
  },
  {
   "cell_type": "markdown",
   "metadata": {},
   "source": [
    "# 2. Improved Visualisation\n",
    "\n",
    "The basic scatterplot can become a big blur, especially when you have a lot of datapoints.\n",
    "\n",
    "*note: you can also use the clusterable_data.npy or another dataset, but it has to be one with a LOT of datapoints*"
   ]
  },
  {
   "cell_type": "code",
   "execution_count": null,
   "metadata": {},
   "outputs": [],
   "source": [
    "# code to load dataset if not already loaded\n"
   ]
  },
  {
   "cell_type": "markdown",
   "metadata": {},
   "source": [
    "If we create a scatterplot of **<span style='background:yellow'>\\<your first choosen variable></span>** and **<span style='background:yellow'>\\<your second choosen variable></span>**"
   ]
  },
  {
   "cell_type": "code",
   "execution_count": null,
   "metadata": {},
   "outputs": [],
   "source": [
    "# code to create the basic scatterplot\n"
   ]
  },
  {
   "cell_type": "markdown",
   "metadata": {},
   "source": [
    "It looks like a big blur.\n",
    "\n",
    "One technique to overcome this, is to use opacity. See for an example: https://i2.wp.com/cmdlinetips.com/wp-content/uploads/2019/04/Scatter_Plot_transparent_with_log_scale_Seaborn_Python.jpeg\n",
    "\n",
    "Here's a function that can create the scatterplot like this, for a given model and dataset."
   ]
  },
  {
   "cell_type": "code",
   "execution_count": null,
   "metadata": {},
   "outputs": [],
   "source": [
    "# code of a function that takes the data as input and shows the scatterplot with the opacity. The level of opacity can also be a parameter.\n"
   ]
  },
  {
   "cell_type": "markdown",
   "metadata": {},
   "source": [
    "Here's an example of using the function:"
   ]
  },
  {
   "cell_type": "code",
   "execution_count": null,
   "metadata": {},
   "outputs": [],
   "source": [
    "# code using the function to show the scatterplot with opacity.\n"
   ]
  },
  {
   "cell_type": "markdown",
   "metadata": {},
   "source": [
    "Another method to deal with even larger datasets is a heatmap. An example is shown below.\n",
    "\n",
    "![image heatmap](https://encrypted-tbn0.gstatic.com/images?q=tbn%3AANd9GcRvQZGu7SMVBCh6KIcF7toUqRpak2qWwQNkkhpZzv30hFbwYdDk&usqp=CAU)\n",
    "\n",
    "This usually requires a Gaussian kernel, and is often slower than the previous methods.\n",
    "\n",
    "So lets create a function for this as well."
   ]
  },
  {
   "cell_type": "code",
   "execution_count": null,
   "metadata": {},
   "outputs": [],
   "source": [
    "# code of a function that takes the data as input and shows the scatterplot as a heatmap. The color scaling could be an optional parameter.\n"
   ]
  },
  {
   "cell_type": "markdown",
   "metadata": {},
   "source": [
    "Here's an example of using the function:"
   ]
  },
  {
   "cell_type": "code",
   "execution_count": null,
   "metadata": {},
   "outputs": [],
   "source": [
    "# code using the function to show the heatmap.\n"
   ]
  },
  {
   "cell_type": "markdown",
   "metadata": {},
   "source": [
    "# 3. A New Technique\n",
    "\n",
    "In the Jupyter Notebook from the lecture, we discussed quite a few techniques:\n",
    "\n",
    "* k-means (with Lloyd and Elkan)\n",
    "* k-means++ (with Lloyd and Elkan)\n",
    "* HCA Single linkage\n",
    "* HCA Complete linkage\n",
    "* HCA Mean linkage\n",
    "* HCA Ward linkage\n",
    "* DBSCAN\n",
    "* HDBSCAN*\n",
    "\n",
    "In the appendix there was also:\n",
    "\n",
    "* Affinity Propagation\n",
    "* Spectral Clustering\n",
    "* Mini-batch K-means\n",
    "* k-medoids\n",
    "* HCA Centroid linkage\n",
    "* HCA Median linkage\n",
    "* Mean Shift\n",
    "* OPTICS\n",
    "\n",
    "However, as shown on the slides (near the end) there are a lot more. "
   ]
  },
  {
   "cell_type": "markdown",
   "metadata": {},
   "source": [
    "In this chapter the **<span style='background:yellow'>\\<your chosen technique that is not listed above></span>** is discussed."
   ]
  },
  {
   "cell_type": "markdown",
   "metadata": {},
   "source": [
    "**<span style='background:yellow'>\\<explain this new technique in detail. What does it do? How does it in principal work? How is it compared to the other techniques discussed? You probably need a few cells for this></span>**"
   ]
  },
  {
   "cell_type": "code",
   "execution_count": null,
   "metadata": {},
   "outputs": [],
   "source": [
    "# code to create and fit the model (perhaps another dataset is also required?)\n"
   ]
  },
  {
   "cell_type": "code",
   "execution_count": null,
   "metadata": {},
   "outputs": [],
   "source": [
    "# code to show the result\n"
   ]
  },
  {
   "cell_type": "markdown",
   "metadata": {},
   "source": [
    "# 4. Categorical Data\n",
    "\n",
    "As with the clustering, the categorical data is a special case. In this chapter we'll describe one way to cluster using categorical data."
   ]
  },
  {
   "cell_type": "markdown",
   "metadata": {},
   "source": [
    "**<span style='background:yellow'>\\<explain this new technique in detail. What does it do? How does it in principal work? You probably need a few cells for this></span>**"
   ]
  },
  {
   "cell_type": "code",
   "execution_count": null,
   "metadata": {},
   "outputs": [],
   "source": [
    "# code to create and fit the model (perhaps another dataset is also required?)\n"
   ]
  },
  {
   "cell_type": "code",
   "execution_count": null,
   "metadata": {},
   "outputs": [],
   "source": [
    "# code to show the result in a scatterplot with the clusters.\n"
   ]
  },
  {
   "cell_type": "markdown",
   "metadata": {},
   "source": [
    "# 5. Elbow as a Number\n",
    "The elbowPlot gives a nice visual tool. But I'd like to have the resulting k-value as a number, so I can use it as an input parameter for some loops over different models.\n",
    "\n",
    "I couldn't find a method to extract the result from the KElbowVisualizer. So we'll have to create something ourselves. Perhaps 'from kneed import KneeLocator' can help here...\n",
    "\n",
    "Below is a function that will find the knee/elbow point for each of the three metrics, and returns the results as an array."
   ]
  },
  {
   "cell_type": "code",
   "execution_count": null,
   "metadata": {},
   "outputs": [],
   "source": [
    "# code for the above described function\n"
   ]
  },
  {
   "cell_type": "code",
   "execution_count": null,
   "metadata": {},
   "outputs": [],
   "source": [
    "# code as example to use the function\n"
   ]
  },
  {
   "cell_type": "code",
   "execution_count": null,
   "metadata": {},
   "outputs": [],
   "source": []
  }
 ],
 "metadata": {
  "interpreter": {
   "hash": "a825f8e8905b8e64233e6384cfa1616d0baa442a3b458fa78e4916d5c671b0d4"
  },
  "kernelspec": {
   "display_name": "Python 3.9.12 ('base')",
   "language": "python",
   "name": "python3"
  },
  "language_info": {
   "codemirror_mode": {
    "name": "ipython",
    "version": 3
   },
   "file_extension": ".py",
   "mimetype": "text/x-python",
   "name": "python",
   "nbconvert_exporter": "python",
   "pygments_lexer": "ipython3",
   "version": "3.9.12"
  }
 },
 "nbformat": 4,
 "nbformat_minor": 4
}
