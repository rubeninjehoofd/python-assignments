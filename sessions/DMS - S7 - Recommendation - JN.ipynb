{
 "cells": [
  {
   "cell_type": "markdown",
   "metadata": {},
   "source": [
    "# Data Mining and Statistics\n",
    "## Session 7 - Recommendation\n",
    "*Peter Stikker - Haarlem, the Netherlands*"
   ]
  },
  {
   "cell_type": "markdown",
   "metadata": {},
   "source": [
    "----"
   ]
  },
  {
   "cell_type": "markdown",
   "metadata": {},
   "source": [
    "## 7.1. Example data"
   ]
  },
  {
   "cell_type": "markdown",
   "metadata": {},
   "source": [
    "We'll be using the movielens data, the 5MB version. To load this into Python we'll need pandas:"
   ]
  },
  {
   "cell_type": "code",
   "execution_count": null,
   "metadata": {},
   "outputs": [],
   "source": [
    "import pandas as pd"
   ]
  },
  {
   "cell_type": "markdown",
   "metadata": {},
   "source": [
    "Now we can use 'read_csv' to load the ratings. These are in the u.data file, and have a 'tab' delimiter, so we can use 'sep='\\t'':"
   ]
  },
  {
   "cell_type": "code",
   "execution_count": null,
   "metadata": {},
   "outputs": [],
   "source": [
    "df = pd.read_csv('ml-100k/u.data', sep='\\t', names=['user_id', 'item_id', 'rating', 'timestamp'])"
   ]
  },
  {
   "cell_type": "markdown",
   "metadata": {},
   "source": [
    "Lets take a quick look:"
   ]
  },
  {
   "cell_type": "code",
   "execution_count": null,
   "metadata": {},
   "outputs": [],
   "source": [
    "df.head()"
   ]
  },
  {
   "cell_type": "markdown",
   "metadata": {},
   "source": [
    "The 'item_id' is actually the movie itself. The full name can be found in the 'u.item' file. This is using a delimiter of '|' and has an encoding of 'latin-1':"
   ]
  },
  {
   "cell_type": "code",
   "execution_count": null,
   "metadata": {},
   "outputs": [],
   "source": [
    "movie_titles = pd.read_csv('ml-100k/u.item', sep='|', encoding='latin-1', header=None)\n",
    "movie_titles.head()"
   ]
  },
  {
   "cell_type": "markdown",
   "metadata": {},
   "source": [
    "I'll only need the item_id and the title itself so lets store those in a separate dataframe:"
   ]
  },
  {
   "cell_type": "code",
   "execution_count": null,
   "metadata": {},
   "outputs": [],
   "source": [
    "dfMovieNames = pd.DataFrame(movie_titles[0])\n",
    "dfMovieNames.columns=['item_id']\n",
    "dfMovieNames['MovieName'] = movie_titles[1]\n",
    "dfMovieNames.head()"
   ]
  },
  {
   "cell_type": "markdown",
   "metadata": {},
   "source": [
    "And now merge the two dataframes we have:"
   ]
  },
  {
   "cell_type": "code",
   "execution_count": null,
   "metadata": {},
   "outputs": [],
   "source": [
    "df2 = pd.merge(df, dfMovieNames, on='item_id')\n",
    "df2.head()"
   ]
  },
  {
   "cell_type": "markdown",
   "metadata": {},
   "source": [
    "## 7.2. Building an Item-Based Recommendation"
   ]
  },
  {
   "cell_type": "markdown",
   "metadata": {},
   "source": [
    "Each row is the user rating of one particular movie. It will be easier if we have an overview where each row is a unique user, and as fields the different ratings that user gave for each movie.\n",
    "\n",
    "This can be done using a pivottable:"
   ]
  },
  {
   "cell_type": "code",
   "execution_count": null,
   "metadata": {},
   "outputs": [],
   "source": [
    "movie_matrix = df2.pivot_table(index='user_id', columns='MovieName', values='rating')\n",
    "movie_matrix.head()"
   ]
  },
  {
   "cell_type": "markdown",
   "metadata": {},
   "source": [
    "We can use this movie_matrix to calculate the (Pearson) correlation coefficient between any two movies.\n",
    "\n",
    "Let's say we are interested in someone who rated 'Air Force One (1997)' with a high rating. Which movies have a strong positive correlation in their ratings with those of 'Air Force One'? Since this would indicate that users who rate that movie high, usually also rate Air Force One high, so we could then recommend this to that person.\n",
    "\n",
    "To calculate all the correlations between one field, and all other fields we can use 'corrwith'.\n",
    "\n",
    "First select the movie:"
   ]
  },
  {
   "cell_type": "code",
   "execution_count": null,
   "metadata": {},
   "outputs": [],
   "source": [
    "myMovie = movie_matrix['Air Force One (1997)']"
   ]
  },
  {
   "cell_type": "markdown",
   "metadata": {},
   "source": [
    "Now for the correlations, sorted of course to make life easy:"
   ]
  },
  {
   "cell_type": "code",
   "execution_count": null,
   "metadata": {},
   "outputs": [],
   "source": [
    "myCorrs = movie_matrix.corrwith(myMovie).sort_values(ascending=False)\n",
    "\n",
    "# and as a dataframe\n",
    "corrDf = pd.DataFrame(myCorrs, columns=['Correlation'])\n",
    "corrDf.dropna(inplace=True)\n",
    "corrDf = corrDf.sort_values('Correlation', ascending=False)\n",
    "corrDf.head()"
   ]
  },
  {
   "cell_type": "markdown",
   "metadata": {},
   "source": [
    "A few weird things. \n",
    "\n",
    "First the warning. It mentions '*Degrees of freedom <= 0 for slice c = cov(x, y, rowvar, dtype=dtype)*'. This is caused if we don't have at least two rating from each movie. Luckily it is just a warning so we don't need to worry about it too much.\n",
    "\n",
    "Second is that the correlation between Air Force One and Air Force One is a perfect 1 (unrounded), but it is not listed on top. \n",
    "\n",
    "Third, some others have a perfect correlation. My guess is that those have rounding errors or perhaps very few ratings which just happened to be the same."
   ]
  },
  {
   "cell_type": "markdown",
   "metadata": {},
   "source": [
    "The number of ratings itself might actually also be helpful. Perhaps we should only take into consideration movies of which we have a decent number of ratings. Let's add the number of ratings."
   ]
  },
  {
   "cell_type": "code",
   "execution_count": null,
   "metadata": {},
   "outputs": [],
   "source": [
    "ratings = pd.DataFrame(df2.groupby('MovieName')['rating'].mean())\n",
    "ratings['nRatings'] = df2.groupby('MovieName')['rating'].count()\n",
    "ratings.sort_values(by=['nRatings']).head()"
   ]
  },
  {
   "cell_type": "markdown",
   "metadata": {},
   "source": [
    "Lets add the number of ratings to the correlations data frame:"
   ]
  },
  {
   "cell_type": "code",
   "execution_count": null,
   "metadata": {},
   "outputs": [],
   "source": [
    "corrDf = corrDf.merge(ratings['nRatings'], on='MovieName')\n",
    "corrDf.head()"
   ]
  },
  {
   "cell_type": "markdown",
   "metadata": {},
   "source": [
    "To find a minimum number of ratings that is suitable for our data, lets create a histogram of the number of ratings:"
   ]
  },
  {
   "cell_type": "code",
   "execution_count": null,
   "metadata": {},
   "outputs": [],
   "source": [
    "ratings['nRatings'].hist(bins=50, range=(0,500));"
   ]
  },
  {
   "cell_type": "markdown",
   "metadata": {},
   "source": [
    "It is up to you to decide on a threshold, but I'll use 75."
   ]
  },
  {
   "cell_type": "markdown",
   "metadata": {},
   "source": [
    "Lets filter out the movies with less than 75 ratings:"
   ]
  },
  {
   "cell_type": "code",
   "execution_count": null,
   "metadata": {},
   "outputs": [],
   "source": [
    "corrDf[corrDf['nRatings']>=75].head()"
   ]
  },
  {
   "cell_type": "markdown",
   "metadata": {},
   "source": [
    "So, final recommendation for someone who was happy with 'Air Force One' is to go and watch 'Copycat'."
   ]
  }
 ],
 "metadata": {
  "kernelspec": {
   "display_name": "Python 3 (ipykernel)",
   "language": "python",
   "name": "python3"
  },
  "language_info": {
   "codemirror_mode": {
    "name": "ipython",
    "version": 3
   },
   "file_extension": ".py",
   "mimetype": "text/x-python",
   "name": "python",
   "nbconvert_exporter": "python",
   "pygments_lexer": "ipython3",
   "version": "3.9.7"
  }
 },
 "nbformat": 4,
 "nbformat_minor": 4
}
