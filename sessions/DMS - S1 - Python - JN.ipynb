{
 "cells": [
  {
   "cell_type": "markdown",
   "metadata": {},
   "source": [
    "# Data Mining and Statistics\n",
    "## Session 1 - Python Basics\n",
    "*Peter Stikker - Haarlem, the Netherlands*"
   ]
  },
  {
   "cell_type": "markdown",
   "metadata": {},
   "source": [
    "---"
   ]
  },
  {
   "cell_type": "markdown",
   "metadata": {},
   "source": [
    "# Introduction"
   ]
  },
  {
   "cell_type": "markdown",
   "metadata": {},
   "source": [
    "Welcom to the first of many Jupyter Notebooks. You being able to see this file is a good indication that you managed to install the required software. The purpose of this notebook is to review all of Programming 1 from year 1, term 1 but now with Python, and discuss some collection types.\n",
    "\n",
    "Before we dive into this, a few small notes about JupyterLab. In JupyterLab we can mix text cells like this (so-called Markdown) and code cells. There are a few shortcuts that could be helpful, but depend on if you are editing a cell, or just selected it. Below a few shortcuts (thanks Micha van der Meer):\n",
    "\n",
    "**In any situation**:\n",
    "- `ctrl  + enter` : run cell\n",
    "- `shift + enter` : run cell and create/select the one after\n",
    "- `ctrl  + s`     : save notebook \n",
    "\n",
    "**When selected a cell (not editing)**:\n",
    "- `↑`/`↓` : browser through different cells \n",
    "- `y`     : changes cell to a code cell \n",
    "- `m`     : changes cell to a `markdown` cell\n",
    "- `a`     : create new cell above \n",
    "- `b`     : create new cell below \n",
    "- `dd`    : delete cell \n",
    "\n",
    "**When editing a cell**:\n",
    "- `esc`           : enter command mode \n",
    "- `first letter from function  + tab` : autocomplete / code intelligence (in a code cell)\n"
   ]
  },
  {
   "cell_type": "markdown",
   "metadata": {},
   "source": [
    "Allright, lets get started with Python."
   ]
  },
  {
   "cell_type": "markdown",
   "metadata": {},
   "source": [
    "# 1. Programming 1 with Python"
   ]
  },
  {
   "cell_type": "markdown",
   "metadata": {
    "tags": []
   },
   "source": [
    "## 1.1. Some Things to Get Started\n",
    "\n",
    "Unlike we have seen in C# and Java, we do not need a 'class Program{}' (C#) or 'public class Main {}' (Java) to start writing code. We can simply just start.\n",
    "\n",
    "The result of the last line of code will show in the output (if it has to show something), so we do not need 'Console.WriteLine' or 'System.out.print'. Below is a very simple example. If you run this it will only show the result of the last line of code. \n",
    "\n",
    "**IMPORTANT**: For each of the code cells, try to think first what you expect the result will be. Then click on the code cell and press ctrl+enter or shift+enter. This will apply for all code cells."
   ]
  },
  {
   "cell_type": "code",
   "execution_count": 1,
   "metadata": {},
   "outputs": [
    {
     "data": {
      "text/plain": [
       "5"
      ]
     },
     "execution_count": 1,
     "metadata": {},
     "output_type": "execute_result"
    }
   ],
   "source": [
    "5+8\n",
    "2+3"
   ]
  },
  {
   "cell_type": "markdown",
   "metadata": {},
   "source": [
    "If we do want multiple lines to show, we can simply use the 'print()' function:"
   ]
  },
  {
   "cell_type": "code",
   "execution_count": null,
   "metadata": {},
   "outputs": [],
   "source": [
    "print(5+8)\n",
    "print(2+3)"
   ]
  },
  {
   "cell_type": "markdown",
   "metadata": {},
   "source": [
    "If you google around, you might also come across 'print 2+3', so without the '()'. This was used in Python 2, but discontinued in Python 3.\n",
    "\n",
    "Python has no separate 'printf' function, but we can use different techniques to still adjust the results the way we want. One method is to use the string modulo operator. Lets first look at an example:"
   ]
  },
  {
   "cell_type": "code",
   "execution_count": null,
   "metadata": {},
   "outputs": [],
   "source": [
    "print(\"price: %5i , vat: %10.2f\" % (100.3, 21.23))"
   ]
  },
  {
   "cell_type": "markdown",
   "metadata": {},
   "source": [
    "The %5i indicates that we want this to be 5 characters wide, and the i indicates it is a signed integer.\n",
    "The %10.2f indicates that we want this to be 10 characters wide, .2 for two decimal places, and f for float.\n",
    "For more details on this, and also another technique using the 'format' method, I'd recommend having a look at https://www.python-course.eu/python3_formatted_output.php"
   ]
  },
  {
   "cell_type": "markdown",
   "metadata": {},
   "source": [
    "Although in this course we will not ask the user often for input (we'll focus on loading data from the user and simply analysing that), it is fairly easy and similar as with Java, but unlike Java we do not need to load a library (e.g. Scanner) first. It is similar as Java in that we do not need to specify the data type for the input. We can simply use the 'input()' function:"
   ]
  },
  {
   "cell_type": "code",
   "execution_count": null,
   "metadata": {},
   "outputs": [],
   "source": [
    "fav_number = input(\"What is your favorite number? \")\n",
    "fav_name = input(\"What is your favorite name? \")\n",
    "\n",
    "print(fav_number)\n",
    "print(fav_name)"
   ]
  },
  {
   "cell_type": "markdown",
   "metadata": {},
   "source": [
    "With Python we do have data-types, but Python decides what they are depending on the input. We can check the data type it assigned with the 'type()' function:"
   ]
  },
  {
   "cell_type": "code",
   "execution_count": null,
   "metadata": {},
   "outputs": [],
   "source": [
    "print(\"Hello World\", type(\"Hello World\"))\n",
    "print(61, type(61))\n",
    "print(3.14, type(3.14))\n",
    "print(False, type(False))"
   ]
  },
  {
   "cell_type": "markdown",
   "metadata": {},
   "source": [
    "There are more, but you probably get the idea. Note that unlike C# and Java for the int and float there is no limit on how big or small the numbers can be. This might be a sign of being a useful tool for data crunching..."
   ]
  },
  {
   "cell_type": "markdown",
   "metadata": {},
   "source": [
    "You can use a function to convert or explicity assign a type to something:"
   ]
  },
  {
   "cell_type": "code",
   "execution_count": null,
   "metadata": {},
   "outputs": [],
   "source": [
    "x = int(23.4)\n",
    "x"
   ]
  },
  {
   "cell_type": "markdown",
   "metadata": {},
   "source": [
    "## 1.2. Basic Statements"
   ]
  },
  {
   "cell_type": "markdown",
   "metadata": {},
   "source": [
    "The six fundamental statements, in my opinion, in programming are ‘if’, ‘switch’, ‘for’, ‘for each’, ‘do’, and ‘while'. \n",
    "\n",
    "Lets first show an if-statement:"
   ]
  },
  {
   "cell_type": "code",
   "execution_count": null,
   "metadata": {},
   "outputs": [],
   "source": [
    "# If statement\n",
    "\n",
    "coffee = False\n",
    "if coffee:\n",
    "    print(\"yes, you can talk to me\")\n",
    "elif not(coffee):\n",
    "    print(\"no, you cannot talk to me\")\n",
    "else:\n",
    "    print(\"this will never be shown\")"
   ]
  },
  {
   "cell_type": "markdown",
   "metadata": {},
   "source": [
    "**Note that in Python using a tab is not for lay-out only, it is a must for the program to run. Also there is no ; needed but a : sometimes**.\n",
    "\n",
    "\n",
    "In Python there is no 'switch'. You can use a dictionary to mimic the behaviour of a switch statement, but you can google on that once you need it. \n",
    "\n",
    "Although many languages have something like 'for x from y to z', in Python everything is actually a 'for each' loop. A 'traditional' for loop would use the 'range()' function in Python:"
   ]
  },
  {
   "cell_type": "code",
   "execution_count": null,
   "metadata": {},
   "outputs": [],
   "source": [
    "# for loop\n",
    "\n",
    "for i in range(1,5):\n",
    "    print(i)"
   ]
  },
  {
   "cell_type": "markdown",
   "metadata": {},
   "source": [
    "You can read this as 'for EACH i in range 1 to 5 (excluding 5) print the i'. \n",
    "\n",
    "A 'more traditional' for-each loop example:"
   ]
  },
  {
   "cell_type": "code",
   "execution_count": null,
   "metadata": {},
   "outputs": [],
   "source": [
    "# for each loop\n",
    "\n",
    "subjects = [\"math\", \"sql\", \"python\"]\n",
    "\n",
    "for i in subjects:\n",
    "    print(i)"
   ]
  },
  {
   "cell_type": "markdown",
   "metadata": {},
   "source": [
    "Note that we don't need to indicate if 'i' is an int, string, bool, etc. Python will figure it out."
   ]
  },
  {
   "cell_type": "markdown",
   "metadata": {},
   "source": [
    "In C# and Java, did you struggle choosing between do...while and while...do? Did you wonder why both are in the program since any do...while can also be written as while...do? Not to worry Python only has while..do."
   ]
  },
  {
   "cell_type": "code",
   "execution_count": null,
   "metadata": {},
   "outputs": [],
   "source": [
    "# while-do loop\n",
    "\n",
    "i = 0\n",
    "while i < 5:\n",
    "    print(i)\n",
    "    i = i + 1"
   ]
  },
  {
   "cell_type": "markdown",
   "metadata": {},
   "source": [
    "There was a time Python looked into adding a 'do-while' loop but that idea got rejected (see https://www.python.org/dev/peps/pep-0315/ if you are interested)"
   ]
  },
  {
   "cell_type": "markdown",
   "metadata": {},
   "source": [
    "## 1.3. Arrays"
   ]
  },
  {
   "cell_type": "markdown",
   "metadata": {},
   "source": [
    "An array is a tuple that can hold only one type of data. We are used to C# and Java using [] for this. Unfortunately Python uses [] for so-called Lists (a tuple that can hold different types of data), and has no specific method to create an array. However, there is a build in library in Python that does make it possible.\n",
    "\n",
    "So lets load our first library in Python:"
   ]
  },
  {
   "cell_type": "code",
   "execution_count": null,
   "metadata": {},
   "outputs": [],
   "source": [
    "import array as arr"
   ]
  },
  {
   "cell_type": "markdown",
   "metadata": {},
   "source": [
    "We didn't need to install this library 'array' since it is build into Python.\n",
    "\n",
    "Now we can create true arrays using the array function: array(data type, values)"
   ]
  },
  {
   "cell_type": "code",
   "execution_count": null,
   "metadata": {},
   "outputs": [],
   "source": [
    "my_numbers = arr.array('i', [1, 2, 4, 9, 3])\n",
    "my_numbers"
   ]
  },
  {
   "cell_type": "markdown",
   "metadata": {},
   "source": [
    "When using a function you can also use: ?arr.array to learn more about the function and for example the 'i' is integer.\n",
    "\n",
    "Try it out by placing a question mark at the start of the next code snippet:"
   ]
  },
  {
   "cell_type": "code",
   "execution_count": null,
   "metadata": {},
   "outputs": [],
   "source": [
    "arr.array"
   ]
  },
  {
   "cell_type": "markdown",
   "metadata": {},
   "source": [
    "You might notice that we can only store a single character or numbers. \n",
    "\n",
    "Now that we have an array, we can do things with it. A few examples, I guess most of the things below speak for themselves:"
   ]
  },
  {
   "cell_type": "code",
   "execution_count": null,
   "metadata": {},
   "outputs": [],
   "source": [
    "my_numbers[0]"
   ]
  },
  {
   "cell_type": "code",
   "execution_count": null,
   "metadata": {},
   "outputs": [],
   "source": [
    "len(my_numbers)"
   ]
  },
  {
   "cell_type": "code",
   "execution_count": null,
   "metadata": {},
   "outputs": [],
   "source": [
    "my_numbers.append(6)\n",
    "my_numbers"
   ]
  },
  {
   "cell_type": "code",
   "execution_count": null,
   "metadata": {},
   "outputs": [],
   "source": [
    "my_numbers.insert(2, 61)\n",
    "my_numbers"
   ]
  },
  {
   "cell_type": "code",
   "execution_count": null,
   "metadata": {},
   "outputs": [],
   "source": [
    "print(my_numbers[0:2])"
   ]
  },
  {
   "cell_type": "markdown",
   "metadata": {},
   "source": [
    "## 1.4. Methods"
   ]
  },
  {
   "cell_type": "markdown",
   "metadata": {},
   "source": [
    "We can write our own functions/methods as well in Python using the 'def' command. An example will probably work best."
   ]
  },
  {
   "cell_type": "code",
   "execution_count": null,
   "metadata": {},
   "outputs": [],
   "source": [
    "def my_cool_function(a, b):\n",
    "    c = a + b\n",
    "    print(c)\n",
    "    return c"
   ]
  },
  {
   "cell_type": "markdown",
   "metadata": {},
   "source": [
    "Lets take it for a spin..."
   ]
  },
  {
   "cell_type": "code",
   "execution_count": null,
   "metadata": {},
   "outputs": [],
   "source": [
    "d = my_cool_function(2,4)\n",
    "d + 3"
   ]
  },
  {
   "cell_type": "markdown",
   "metadata": {},
   "source": [
    "So, is this pass by reference or pass by value? Lets find out..."
   ]
  },
  {
   "cell_type": "code",
   "execution_count": null,
   "metadata": {},
   "outputs": [],
   "source": [
    "def test_pass_by(a, b):\n",
    "    a = a + b"
   ]
  },
  {
   "cell_type": "code",
   "execution_count": null,
   "metadata": {},
   "outputs": [],
   "source": [
    "a = 2\n",
    "test_pass_by(a, 3)\n",
    "a"
   ]
  },
  {
   "cell_type": "markdown",
   "metadata": {},
   "source": [
    "So? The original 'a' did not change, so pass by value, right? Well, not really. Python uses a different approach sometimes known as 'pass by assignment'. The details are too much for this intro so will not go into it here. Some claim it is also a moot point. An interesting starting point if you do want to look into this more are: https://stackoverflow.com/questions/50534394/what-does-it-mean-by-passed-by-assignment and https://realpython.com/python-pass-by-reference/"
   ]
  },
  {
   "cell_type": "markdown",
   "metadata": {},
   "source": [
    "## 1.5. Practice"
   ]
  },
  {
   "cell_type": "markdown",
   "metadata": {},
   "source": [
    "**Exercise 1.1**\n",
    "\n",
    "Create a small program, where the user can enter a price. The price, the amount of 21% VAT, and the total price will then be shown. Use a separate method/function to calculate the VAT."
   ]
  },
  {
   "cell_type": "code",
   "execution_count": 15,
   "metadata": {},
   "outputs": [
    {
     "name": "stdin",
     "output_type": "stream",
     "text": [
      "Enter a price:  100\n"
     ]
    },
    {
     "name": "stdout",
     "output_type": "stream",
     "text": [
      "entered price: 100.0\n",
      "VAT:  21.0\n",
      "price with VAT 121.0\n"
     ]
    }
   ],
   "source": [
    "\n",
    "def calc_vat():\n",
    "    price = float(input(\"Enter a price: \"))\n",
    "    vat = price * 0.21\n",
    "    vatPrice = price + vat\n",
    "    print(\"entered price:\", price)\n",
    "    print(\"VAT: \", vat)\n",
    "    print(\"price with VAT\", vatPrice)\n",
    "\n",
    "calc_vat()\n"
   ]
  },
  {
   "cell_type": "markdown",
   "metadata": {},
   "source": [
    "**Exercise 1.2**\n",
    "    \n",
    "The user can enter numbers until number 0 is stated. Use a separate method 'is_prime_number' to\n",
    "determine whether the positive numbers (>0) are prime numbers; this method returns a boolean value."
   ]
  },
  {
   "cell_type": "code",
   "execution_count": 13,
   "metadata": {
    "tags": []
   },
   "outputs": [
    {
     "name": "stdin",
     "output_type": "stream",
     "text": [
      "Give a number:  4\n"
     ]
    },
    {
     "name": "stdout",
     "output_type": "stream",
     "text": [
      "4  is a prime number\n"
     ]
    },
    {
     "name": "stdin",
     "output_type": "stream",
     "text": [
      "Give a number:  5\n"
     ]
    },
    {
     "name": "stdout",
     "output_type": "stream",
     "text": [
      "5  not a prime number\n"
     ]
    },
    {
     "name": "stdin",
     "output_type": "stream",
     "text": [
      "Give a number:  6\n"
     ]
    },
    {
     "name": "stdout",
     "output_type": "stream",
     "text": [
      "6  is a prime number\n"
     ]
    },
    {
     "name": "stdin",
     "output_type": "stream",
     "text": [
      "Give a number:  8\n"
     ]
    },
    {
     "name": "stdout",
     "output_type": "stream",
     "text": [
      "8  is a prime number\n"
     ]
    },
    {
     "name": "stdin",
     "output_type": "stream",
     "text": [
      "Give a number:  2\n"
     ]
    },
    {
     "name": "stdout",
     "output_type": "stream",
     "text": [
      "2  is a prime number\n"
     ]
    },
    {
     "name": "stdin",
     "output_type": "stream",
     "text": [
      "Give a number:  1\n"
     ]
    },
    {
     "name": "stdout",
     "output_type": "stream",
     "text": [
      "1  not a prime number\n"
     ]
    },
    {
     "ename": "KeyboardInterrupt",
     "evalue": "Interrupted by user",
     "output_type": "error",
     "traceback": [
      "\u001b[1;31m---------------------------------------------------------------------------\u001b[0m",
      "\u001b[1;31mKeyboardInterrupt\u001b[0m                         Traceback (most recent call last)",
      "\u001b[1;32m~\\AppData\\Local\\Temp/ipykernel_18964/1245020180.py\u001b[0m in \u001b[0;36m<module>\u001b[1;34m\u001b[0m\n\u001b[0;32m      8\u001b[0m \u001b[1;33m\u001b[0m\u001b[0m\n\u001b[0;32m      9\u001b[0m \u001b[1;32mwhile\u001b[0m \u001b[0mi\u001b[0m \u001b[1;33m>\u001b[0m \u001b[1;36m0\u001b[0m\u001b[1;33m:\u001b[0m\u001b[1;33m\u001b[0m\u001b[1;33m\u001b[0m\u001b[0m\n\u001b[1;32m---> 10\u001b[1;33m     \u001b[0mnum\u001b[0m \u001b[1;33m=\u001b[0m \u001b[0mint\u001b[0m\u001b[1;33m(\u001b[0m\u001b[0minput\u001b[0m\u001b[1;33m(\u001b[0m\u001b[1;34m\"Give a number: \"\u001b[0m\u001b[1;33m)\u001b[0m\u001b[1;33m)\u001b[0m\u001b[1;33m\u001b[0m\u001b[1;33m\u001b[0m\u001b[0m\n\u001b[0m\u001b[0;32m     11\u001b[0m     \u001b[1;32mif\u001b[0m \u001b[0mis_prime_number\u001b[0m\u001b[1;33m(\u001b[0m\u001b[0mnum\u001b[0m\u001b[1;33m)\u001b[0m\u001b[1;33m:\u001b[0m\u001b[1;33m\u001b[0m\u001b[1;33m\u001b[0m\u001b[0m\n\u001b[0;32m     12\u001b[0m         \u001b[0mprint\u001b[0m\u001b[1;33m(\u001b[0m\u001b[0mnum\u001b[0m\u001b[1;33m,\u001b[0m \u001b[1;34m\" is a prime number\"\u001b[0m\u001b[1;33m)\u001b[0m\u001b[1;33m\u001b[0m\u001b[1;33m\u001b[0m\u001b[0m\n",
      "\u001b[1;32mC:\\Anaconda\\lib\\site-packages\\ipykernel\\kernelbase.py\u001b[0m in \u001b[0;36mraw_input\u001b[1;34m(self, prompt)\u001b[0m\n\u001b[0;32m   1004\u001b[0m                 \u001b[1;34m\"raw_input was called, but this frontend does not support input requests.\"\u001b[0m\u001b[1;33m\u001b[0m\u001b[1;33m\u001b[0m\u001b[0m\n\u001b[0;32m   1005\u001b[0m             )\n\u001b[1;32m-> 1006\u001b[1;33m         return self._input_request(\n\u001b[0m\u001b[0;32m   1007\u001b[0m             \u001b[0mstr\u001b[0m\u001b[1;33m(\u001b[0m\u001b[0mprompt\u001b[0m\u001b[1;33m)\u001b[0m\u001b[1;33m,\u001b[0m\u001b[1;33m\u001b[0m\u001b[1;33m\u001b[0m\u001b[0m\n\u001b[0;32m   1008\u001b[0m             \u001b[0mself\u001b[0m\u001b[1;33m.\u001b[0m\u001b[0m_parent_ident\u001b[0m\u001b[1;33m[\u001b[0m\u001b[1;34m\"shell\"\u001b[0m\u001b[1;33m]\u001b[0m\u001b[1;33m,\u001b[0m\u001b[1;33m\u001b[0m\u001b[1;33m\u001b[0m\u001b[0m\n",
      "\u001b[1;32mC:\\Anaconda\\lib\\site-packages\\ipykernel\\kernelbase.py\u001b[0m in \u001b[0;36m_input_request\u001b[1;34m(self, prompt, ident, parent, password)\u001b[0m\n\u001b[0;32m   1049\u001b[0m             \u001b[1;32mexcept\u001b[0m \u001b[0mKeyboardInterrupt\u001b[0m\u001b[1;33m:\u001b[0m\u001b[1;33m\u001b[0m\u001b[1;33m\u001b[0m\u001b[0m\n\u001b[0;32m   1050\u001b[0m                 \u001b[1;31m# re-raise KeyboardInterrupt, to truncate traceback\u001b[0m\u001b[1;33m\u001b[0m\u001b[1;33m\u001b[0m\u001b[0m\n\u001b[1;32m-> 1051\u001b[1;33m                 \u001b[1;32mraise\u001b[0m \u001b[0mKeyboardInterrupt\u001b[0m\u001b[1;33m(\u001b[0m\u001b[1;34m\"Interrupted by user\"\u001b[0m\u001b[1;33m)\u001b[0m \u001b[1;32mfrom\u001b[0m \u001b[1;32mNone\u001b[0m\u001b[1;33m\u001b[0m\u001b[1;33m\u001b[0m\u001b[0m\n\u001b[0m\u001b[0;32m   1052\u001b[0m             \u001b[1;32mexcept\u001b[0m \u001b[0mException\u001b[0m\u001b[1;33m:\u001b[0m\u001b[1;33m\u001b[0m\u001b[1;33m\u001b[0m\u001b[0m\n\u001b[0;32m   1053\u001b[0m                 \u001b[0mself\u001b[0m\u001b[1;33m.\u001b[0m\u001b[0mlog\u001b[0m\u001b[1;33m.\u001b[0m\u001b[0mwarning\u001b[0m\u001b[1;33m(\u001b[0m\u001b[1;34m\"Invalid Message:\"\u001b[0m\u001b[1;33m,\u001b[0m \u001b[0mexc_info\u001b[0m\u001b[1;33m=\u001b[0m\u001b[1;32mTrue\u001b[0m\u001b[1;33m)\u001b[0m\u001b[1;33m\u001b[0m\u001b[1;33m\u001b[0m\u001b[0m\n",
      "\u001b[1;31mKeyboardInterrupt\u001b[0m: Interrupted by user"
     ]
    }
   ],
   "source": [
    "def is_prime_number(num):\n",
    "    if (num > 0 and num % 2 == 0):\n",
    "        return True\n",
    "    else:\n",
    "        return False\n",
    "    \n",
    "i = 1\n",
    "\n",
    "while i > 0:\n",
    "    num = int(input(\"Give a number: \"))\n",
    "    if is_prime_number(num):\n",
    "        print(num, \" is a prime number\")\n",
    "    else:\n",
    "        print(num, \" not a prime number\")"
   ]
  },
  {
   "cell_type": "markdown",
   "metadata": {},
   "source": [
    "**Exercise 1.3**\n",
    "\n",
    "The user can enter several years until number 0 is stated. Use a separate method 'is_leap_year' to determine\n",
    "whether each year is a leap year; this method returns a boolean value.\n",
    "\n",
    "*note:* a leap year is a year that is divisible by 4, except if it is divisible by 100. A year that is divisible by 400 is also a leap year, even though it is then also divisible by 100."
   ]
  },
  {
   "cell_type": "code",
   "execution_count": 1,
   "metadata": {},
   "outputs": [
    {
     "ename": "KeyboardInterrupt",
     "evalue": "Interrupted by user",
     "output_type": "error",
     "traceback": [
      "\u001b[1;31m---------------------------------------------------------------------------\u001b[0m",
      "\u001b[1;31mKeyboardInterrupt\u001b[0m                         Traceback (most recent call last)",
      "\u001b[1;32m~\\AppData\\Local\\Temp/ipykernel_6912/2864120231.py\u001b[0m in \u001b[0;36m<module>\u001b[1;34m\u001b[0m\n\u001b[1;32m----> 1\u001b[1;33m \u001b[0myear\u001b[0m \u001b[1;33m=\u001b[0m \u001b[0mint\u001b[0m\u001b[1;33m(\u001b[0m\u001b[0minput\u001b[0m\u001b[1;33m(\u001b[0m\u001b[1;34m\"Enter a year: \"\u001b[0m\u001b[1;33m)\u001b[0m\u001b[1;33m)\u001b[0m\u001b[1;33m\u001b[0m\u001b[1;33m\u001b[0m\u001b[0m\n\u001b[0m\u001b[0;32m      2\u001b[0m \u001b[1;33m\u001b[0m\u001b[0m\n\u001b[0;32m      3\u001b[0m \u001b[1;32mdef\u001b[0m \u001b[0mis_leap_year\u001b[0m\u001b[1;33m(\u001b[0m\u001b[0myear\u001b[0m\u001b[1;33m)\u001b[0m\u001b[1;33m:\u001b[0m\u001b[1;33m\u001b[0m\u001b[1;33m\u001b[0m\u001b[0m\n\u001b[0;32m      4\u001b[0m     \u001b[1;32mif\u001b[0m \u001b[1;33m(\u001b[0m\u001b[0myear\u001b[0m \u001b[1;33m%\u001b[0m \u001b[1;36m4\u001b[0m \u001b[1;33m==\u001b[0m \u001b[1;36m0\u001b[0m\u001b[1;33m)\u001b[0m\u001b[1;33m:\u001b[0m\u001b[1;33m\u001b[0m\u001b[1;33m\u001b[0m\u001b[0m\n\u001b[0;32m      5\u001b[0m         \u001b[1;32mif\u001b[0m \u001b[1;33m(\u001b[0m\u001b[0myear\u001b[0m \u001b[1;33m%\u001b[0m \u001b[1;36m100\u001b[0m \u001b[1;33m==\u001b[0m \u001b[1;36m0\u001b[0m\u001b[1;33m)\u001b[0m\u001b[1;33m:\u001b[0m\u001b[1;33m\u001b[0m\u001b[1;33m\u001b[0m\u001b[0m\n",
      "\u001b[1;32mC:\\Anaconda\\lib\\site-packages\\ipykernel\\kernelbase.py\u001b[0m in \u001b[0;36mraw_input\u001b[1;34m(self, prompt)\u001b[0m\n\u001b[0;32m   1004\u001b[0m                 \u001b[1;34m\"raw_input was called, but this frontend does not support input requests.\"\u001b[0m\u001b[1;33m\u001b[0m\u001b[1;33m\u001b[0m\u001b[0m\n\u001b[0;32m   1005\u001b[0m             )\n\u001b[1;32m-> 1006\u001b[1;33m         return self._input_request(\n\u001b[0m\u001b[0;32m   1007\u001b[0m             \u001b[0mstr\u001b[0m\u001b[1;33m(\u001b[0m\u001b[0mprompt\u001b[0m\u001b[1;33m)\u001b[0m\u001b[1;33m,\u001b[0m\u001b[1;33m\u001b[0m\u001b[1;33m\u001b[0m\u001b[0m\n\u001b[0;32m   1008\u001b[0m             \u001b[0mself\u001b[0m\u001b[1;33m.\u001b[0m\u001b[0m_parent_ident\u001b[0m\u001b[1;33m[\u001b[0m\u001b[1;34m\"shell\"\u001b[0m\u001b[1;33m]\u001b[0m\u001b[1;33m,\u001b[0m\u001b[1;33m\u001b[0m\u001b[1;33m\u001b[0m\u001b[0m\n",
      "\u001b[1;32mC:\\Anaconda\\lib\\site-packages\\ipykernel\\kernelbase.py\u001b[0m in \u001b[0;36m_input_request\u001b[1;34m(self, prompt, ident, parent, password)\u001b[0m\n\u001b[0;32m   1049\u001b[0m             \u001b[1;32mexcept\u001b[0m \u001b[0mKeyboardInterrupt\u001b[0m\u001b[1;33m:\u001b[0m\u001b[1;33m\u001b[0m\u001b[1;33m\u001b[0m\u001b[0m\n\u001b[0;32m   1050\u001b[0m                 \u001b[1;31m# re-raise KeyboardInterrupt, to truncate traceback\u001b[0m\u001b[1;33m\u001b[0m\u001b[1;33m\u001b[0m\u001b[0m\n\u001b[1;32m-> 1051\u001b[1;33m                 \u001b[1;32mraise\u001b[0m \u001b[0mKeyboardInterrupt\u001b[0m\u001b[1;33m(\u001b[0m\u001b[1;34m\"Interrupted by user\"\u001b[0m\u001b[1;33m)\u001b[0m \u001b[1;32mfrom\u001b[0m \u001b[1;32mNone\u001b[0m\u001b[1;33m\u001b[0m\u001b[1;33m\u001b[0m\u001b[0m\n\u001b[0m\u001b[0;32m   1052\u001b[0m             \u001b[1;32mexcept\u001b[0m \u001b[0mException\u001b[0m\u001b[1;33m:\u001b[0m\u001b[1;33m\u001b[0m\u001b[1;33m\u001b[0m\u001b[0m\n\u001b[0;32m   1053\u001b[0m                 \u001b[0mself\u001b[0m\u001b[1;33m.\u001b[0m\u001b[0mlog\u001b[0m\u001b[1;33m.\u001b[0m\u001b[0mwarning\u001b[0m\u001b[1;33m(\u001b[0m\u001b[1;34m\"Invalid Message:\"\u001b[0m\u001b[1;33m,\u001b[0m \u001b[0mexc_info\u001b[0m\u001b[1;33m=\u001b[0m\u001b[1;32mTrue\u001b[0m\u001b[1;33m)\u001b[0m\u001b[1;33m\u001b[0m\u001b[1;33m\u001b[0m\u001b[0m\n",
      "\u001b[1;31mKeyboardInterrupt\u001b[0m: Interrupted by user"
     ]
    }
   ],
   "source": [
    "year = int(input(\"Enter a year: \"))\n",
    "\n",
    "def is_leap_year(year):\n",
    "    if (year % 4 == 0):\n",
    "        if (year % 100 == 0):\n",
    "            if (year % 400 == 0):\n",
    "                return True\n",
    "            else:\n",
    "                return False\n",
    "        else:\n",
    "            return True\n",
    "    else: \n",
    "        return False\n",
    "    \n",
    "           \n",
    "while year > 0:\n",
    "    if is_leap_year(year):\n",
    "        print(year, \"is a leap year\")\n",
    "    else:\n",
    "        print(year, \"is not a leap year\")\n",
    "        \n",
    "    year = int(input(\"Enter a year: \"))"
   ]
  },
  {
   "cell_type": "markdown",
   "metadata": {},
   "source": [
    "**Exercise 1.4**\n",
    "\n",
    "The user can enter a text (string). Determine the number of times that the characters . (full stop) , (comma) and ;\n",
    "(semi-colon) occur in this string. Use a separate method 'search_text' for this purpose, with a string as\n",
    "an input parameter, and with 3 out parameters: nr_of_full_stops, nr_of_commas, nr_of_semicolons. This\n",
    "method has no return value."
   ]
  },
  {
   "cell_type": "code",
   "execution_count": 5,
   "metadata": {},
   "outputs": [
    {
     "name": "stdin",
     "output_type": "stream",
     "text": [
      "enter a string:  fdafsdj;.,asd.,,;\n"
     ]
    },
    {
     "name": "stdout",
     "output_type": "stream",
     "text": [
      "2 times a '.'\n",
      "3 times a ','\n",
      "2 times a ';'\n"
     ]
    }
   ],
   "source": [
    "text = str(input(\"enter a string: \"))\n",
    "\n",
    "def search_text(text):\n",
    "    nr_of_full_stops = text.count(\".\")\n",
    "    nr_of_commas = text.count(\",\")\n",
    "    nr_of_semicolons = text.count(\";\")\n",
    "    print(nr_of_full_stops, \"times a '.'\")\n",
    "    print(nr_of_commas, \"times a ','\")\n",
    "    print(nr_of_semicolons, \"times a ';'\")\n",
    "\n",
    "    \n",
    "search_text(text)"
   ]
  },
  {
   "cell_type": "markdown",
   "metadata": {},
   "source": [
    "## 1.6. Final Remarks"
   ]
  },
  {
   "cell_type": "markdown",
   "metadata": {},
   "source": [
    "That is basically what you did for C# in Programming 1, year 1, term 1, but now with Python. If the exercises felt familiar, it is because they are identical to the last assignments from Programming 1. If you followed along and understood everything, realise that in an hour (or a few) you just did what took 7 weeks all those years ago! You can feel proud and realise you've come a long way :-)\n",
    "\n",
    "In Programming 2 & 3 the focus was on object-oriented programming with Classes. This is also possible with Python, but will not be discussed in this course. In this course we are going to use Python for data mining and statistics, not so much for building applications. \n",
    "\n",
    "In the next chapter we take a closer look at some of Python's collection data types. This can come in handy when dealing with data."
   ]
  },
  {
   "cell_type": "markdown",
   "metadata": {},
   "source": [
    "# 2. Collections in Python"
   ]
  },
  {
   "cell_type": "markdown",
   "metadata": {},
   "source": [
    "We already discussed the 'arrays' but Python has a few other collections as well.\n",
    "\n",
    "We'll discuss the following so-called sequential collection types: Tuples, Sets, Lists and Arrays.\n",
    "\n",
    "There are a four things to consider for each type:\n",
    "1. Are different data types allowed in the sequence?\n",
    "2. Is the order as the data is given or changed?\n",
    "3. Are duplicate values allowed?\n",
    "4. Can we make changes?\n",
    "\n",
    "So lets investigate these."
   ]
  },
  {
   "cell_type": "markdown",
   "metadata": {},
   "source": [
    "## 2.1. Lists\n",
    "\n",
    "The first type we're going to look at is the List. Let's begin with an example:"
   ]
  },
  {
   "cell_type": "code",
   "execution_count": 6,
   "metadata": {},
   "outputs": [
    {
     "name": "stdout",
     "output_type": "stream",
     "text": [
      "<class 'list'>\n"
     ]
    },
    {
     "data": {
      "text/plain": [
       "['Teacher', 61, 'Peter', 6, 6]"
      ]
     },
     "execution_count": 6,
     "metadata": {},
     "output_type": "execute_result"
    }
   ],
   "source": [
    "my_list = [\"Teacher\", 61, \"Peter\", 6, 6]\n",
    "\n",
    "print(type(my_list))\n",
    "my_list"
   ]
  },
  {
   "cell_type": "markdown",
   "metadata": {},
   "source": [
    "Based on this one example we can already answer a few:\n",
    "\n",
    "1. Are different data types allowed in the sequence? YES\n",
    "2. Is the order as the data is given or changed? Appears to be as entered\n",
    "3. Are duplicate values allowed? YES\n",
    "4. Can we make changes? Don't know yet.\n",
    "\n",
    "Although we can't be sure of question 2, but indeed for a tuple the order does not change.\n",
    "\n",
    "Now for question 4...."
   ]
  },
  {
   "cell_type": "code",
   "execution_count": null,
   "metadata": {},
   "outputs": [],
   "source": [
    "my_list.append(True)\n",
    "my_list.insert(3, \"great\")\n",
    "my_list"
   ]
  },
  {
   "cell_type": "markdown",
   "metadata": {},
   "source": [
    "Seems like we can add, how about removing items..."
   ]
  },
  {
   "cell_type": "code",
   "execution_count": null,
   "metadata": {},
   "outputs": [],
   "source": [
    "my_list.remove(6)\n",
    "del my_list[3:3]\n",
    "my_list"
   ]
  },
  {
   "cell_type": "markdown",
   "metadata": {},
   "source": [
    "The 'remove' will remove the first value that matches the given input. The del will remove a value from a range of specified indexes. There is also a 'drop' option to remove items."
   ]
  },
  {
   "cell_type": "markdown",
   "metadata": {},
   "source": [
    "So, final conclusion for Lists:\n",
    "\n",
    "1. Are different data types allowed in the sequence? YES\n",
    "2. Is the order as the data is given or changed? GIVEN\n",
    "3. Are duplicate values allowed? YES\n",
    "4. Can we make changes? YES\n",
    "\n",
    "Lists are the most versatile, but sometimes we don't want all this to be possible, so the other collection types do have some limitations."
   ]
  },
  {
   "cell_type": "markdown",
   "metadata": {},
   "source": [
    "## 2.2. Tuples"
   ]
  },
  {
   "cell_type": "markdown",
   "metadata": {},
   "source": [
    "A tuple in Python can be made using the regular parenthesis:"
   ]
  },
  {
   "cell_type": "code",
   "execution_count": null,
   "metadata": {},
   "outputs": [],
   "source": [
    "my_tuple = (\"Teacher\", 61, \"Peter\", 6, 6)\n",
    "print(type(my_tuple))\n",
    "my_tuple"
   ]
  },
  {
   "cell_type": "markdown",
   "metadata": {},
   "source": [
    "Based on this one example we can already answer a few:\n",
    "\n",
    "1. Are different data types allowed in the sequence? YES\n",
    "2. Is the order as the data is given or changed? Appears to be as entered\n",
    "3. Are duplicate values allowed? YES\n",
    "4. Can we make changes? Don't know yet.\n",
    "\n",
    "Although we can't be sure of question 2, but indeed for a tuple the order does not change.\n",
    "\n",
    "Now for question 4...."
   ]
  },
  {
   "cell_type": "code",
   "execution_count": null,
   "metadata": {},
   "outputs": [],
   "source": [
    "my_tuple.append(6)"
   ]
  },
  {
   "cell_type": "code",
   "execution_count": null,
   "metadata": {},
   "outputs": [],
   "source": [
    "my_tuple.pop(1)"
   ]
  },
  {
   "cell_type": "markdown",
   "metadata": {},
   "source": [
    "It appears that we cannot add or remove items to a tuple directly. It is of course possible to 'cheat' and do this indirectly: "
   ]
  },
  {
   "cell_type": "code",
   "execution_count": null,
   "metadata": {},
   "outputs": [],
   "source": [
    "print(id(my_tuple))\n",
    "my_tuple = (*my_tuple, True)\n",
    "my_tuple"
   ]
  },
  {
   "cell_type": "markdown",
   "metadata": {},
   "source": [
    "The 'id' returns a unique id for the specified object. Note that we actually changed this:"
   ]
  },
  {
   "cell_type": "code",
   "execution_count": null,
   "metadata": {},
   "outputs": [],
   "source": [
    "print(id(my_tuple))"
   ]
  },
  {
   "cell_type": "markdown",
   "metadata": {},
   "source": [
    "We created a new tuple with the same name. You can go back if you like to verify that the id of a List does not change if you add or remove an element."
   ]
  },
  {
   "cell_type": "markdown",
   "metadata": {},
   "source": [
    "So, final conclusion for Tuples:\n",
    "\n",
    "1. Are different data types allowed in the sequence? YES\n",
    "2. Is the order as the data is given or changed? GIVEN\n",
    "3. Are duplicate values allowed? YES\n",
    "4. Can we make changes? NO\n",
    "\n",
    "Lists are the most versatile, but sometimes we don't want all this to be possible, so the other collection types do have some limitations."
   ]
  },
  {
   "cell_type": "markdown",
   "metadata": {},
   "source": [
    "## 2.3. Sets"
   ]
  },
  {
   "cell_type": "markdown",
   "metadata": {},
   "source": [
    "A third option is a set. You might also remember this from the Databases SQL class, but that is a while ago. Lets find out using an example:"
   ]
  },
  {
   "cell_type": "code",
   "execution_count": 7,
   "metadata": {},
   "outputs": [
    {
     "name": "stdout",
     "output_type": "stream",
     "text": [
      "<class 'set'>\n"
     ]
    },
    {
     "data": {
      "text/plain": [
       "{6, 61, 'Peter', 'Teacher'}"
      ]
     },
     "execution_count": 7,
     "metadata": {},
     "output_type": "execute_result"
    }
   ],
   "source": [
    "my_set = {\"Teacher\", 61, \"Peter\", 6, 6}\n",
    "print(type(my_set))\n",
    "my_set"
   ]
  },
  {
   "cell_type": "markdown",
   "metadata": {},
   "source": [
    "Ah, that looks different than our previous results. Note that we only have one 6 left, and the order is different (appears to be numbers first in low to high, then text in alphabetical order). So based on this one example:\n",
    "\n",
    "1. Are different data types allowed in the sequence? YES\n",
    "2. Is the order as the data is given or changed? CHANGED\n",
    "3. Are duplicate values allowed? NO\n",
    "4. Can we make changes? Don't know\n",
    "\n",
    "Lets see if we can make changes..."
   ]
  },
  {
   "cell_type": "code",
   "execution_count": 8,
   "metadata": {},
   "outputs": [
    {
     "name": "stdout",
     "output_type": "stream",
     "text": [
      "1967599583520\n",
      "1967599583520\n"
     ]
    },
    {
     "data": {
      "text/plain": [
       "{6, 61, 'Peter', 'Teacher', True}"
      ]
     },
     "execution_count": 8,
     "metadata": {},
     "output_type": "execute_result"
    }
   ],
   "source": [
    "print(id(my_set))\n",
    "\n",
    "my_set.add(True)\n",
    "\n",
    "print(id(my_set))\n",
    "my_set"
   ]
  },
  {
   "cell_type": "markdown",
   "metadata": {},
   "source": [
    "Seems like we can add items without changing the id. Can we also remove items..."
   ]
  },
  {
   "cell_type": "code",
   "execution_count": null,
   "metadata": {},
   "outputs": [],
   "source": [
    "my_set.remove(True)\n",
    "\n",
    "print(id(my_set))\n",
    "my_set"
   ]
  },
  {
   "cell_type": "markdown",
   "metadata": {},
   "source": [
    "Yep, no problem. You can also use 'discard()'. The remove method gives an error if the item is not in the set, the discard will not.\n",
    "\n",
    "So, final conclusion for Sets:\n",
    "\n",
    "1. Are different data types allowed in the sequence? YES\n",
    "2. Is the order as the data is given or changed? CHANGED\n",
    "3. Are duplicate values allowed? NO\n",
    "4. Can we make changes? YES\n",
    "\n"
   ]
  },
  {
   "cell_type": "markdown",
   "metadata": {},
   "source": [
    "## 2.4. Arrays (revisited)\n",
    "\n",
    "We already discussed arrays in chapter 1, but lets take another look at them in the context of collections.\n",
    "\n",
    "From chapter 1 we know that arrays in Python can only contain numbers or a single unicode character, so the example sequence we have used so far, will not work. So another example."
   ]
  },
  {
   "cell_type": "code",
   "execution_count": 9,
   "metadata": {},
   "outputs": [
    {
     "name": "stdout",
     "output_type": "stream",
     "text": [
      "1967599561968\n",
      "<class 'array.array'>\n"
     ]
    },
    {
     "data": {
      "text/plain": [
       "array('i', [1, 2, 4, 9, 3, 9])"
      ]
     },
     "execution_count": 9,
     "metadata": {},
     "output_type": "execute_result"
    }
   ],
   "source": [
    "import array as arr\n",
    "my_array = arr.array('i', [1, 2, 4, 9, 3, 9])\n",
    "\n",
    "print(id(my_array))\n",
    "print(type(my_array))\n",
    "my_array"
   ]
  },
  {
   "cell_type": "markdown",
   "metadata": {},
   "source": [
    "So based on this one example and from chapter 1:\n",
    "\n",
    "1. Are different data types allowed in the sequence? NO\n",
    "2. Is the order as the data is given or changed? GIVEN\n",
    "3. Are duplicate values allowed? YES\n",
    "4. Can we make changes? YES\n",
    "\n",
    "The fourth answer we know from chapter 1. We have seen there already we can insert new values:"
   ]
  },
  {
   "cell_type": "code",
   "execution_count": null,
   "metadata": {},
   "outputs": [],
   "source": [
    "my_array.append(6)\n",
    "my_array.insert(2, 61)\n",
    "\n",
    "print(id(my_array))\n",
    "my_array"
   ]
  },
  {
   "cell_type": "markdown",
   "metadata": {},
   "source": [
    "We can also remove items the same way as with a List."
   ]
  },
  {
   "cell_type": "code",
   "execution_count": null,
   "metadata": {},
   "outputs": [],
   "source": [
    "my_array.remove(9)\n",
    "my_array.pop(0)\n",
    "\n",
    "print(id(my_array))\n",
    "my_array"
   ]
  },
  {
   "cell_type": "markdown",
   "metadata": {},
   "source": [
    "Note that many sources will call Python's List also an Array, and others will refer to so-called Numpy Arrays. Indeed very often when arrays are needed and used, these Numpy Arrays are used, and so will we. However, Numpy is on the menu for the next session.\n",
    "\n",
    "One other type of collection is the dictionary."
   ]
  },
  {
   "cell_type": "markdown",
   "metadata": {},
   "source": [
    "## 2.5. Dictionaries\n",
    "\n",
    "A mapping type of collection is the dictionary. It uses a key-value pair for each entry. Lets use an example:"
   ]
  },
  {
   "cell_type": "code",
   "execution_count": null,
   "metadata": {},
   "outputs": [],
   "source": [
    "my_dict = {\"name\": \"Peter\", \"fav number\" : 61, 3 : 5}\n",
    "\n",
    "print(id(my_dict))\n",
    "print(type(my_dict))\n",
    "my_dict"
   ]
  },
  {
   "cell_type": "markdown",
   "metadata": {},
   "source": [
    "So based on this one example:\n",
    "\n",
    "1. Are different data types allowed? YES\n",
    "2. Is the order as the data is given or changed? Hmmm, given???\n",
    "3. Are duplicate values allowed? NO for key, YES for value\n",
    "4. Can we make changes? Don't know\n",
    "\n",
    "The answer to the 2nd question is indeed given, but only since Python 3.7. There is a nice discussion on this at: https://stackoverflow.com/questions/39980323/are-dictionaries-ordered-in-python-3-6. It also mentions the OrderedDictionary which is another collection type in Python. But we digress. Although we can now be sure that the order of the dictionary is as given, we cannot use an index to do something with them (we can now convert the keys to a list, then do something with that list, but that feels a bit like cheating).\n",
    "\n",
    "Can we make changes? Lets find out:"
   ]
  },
  {
   "cell_type": "code",
   "execution_count": null,
   "metadata": {},
   "outputs": [],
   "source": [
    "my_dict[\"hobby\"] = \"mathematics\"\n",
    "\n",
    "print(id(my_dict))\n",
    "my_dict"
   ]
  },
  {
   "cell_type": "markdown",
   "metadata": {},
   "source": [
    "No change in the id, and it did get added. Can we also remove?"
   ]
  },
  {
   "cell_type": "code",
   "execution_count": null,
   "metadata": {},
   "outputs": [],
   "source": [
    "my_dict.pop(\"hobby\")\n",
    "del my_dict[3]\n",
    "my_dict"
   ]
  },
  {
   "cell_type": "markdown",
   "metadata": {},
   "source": [
    "Yep, no problem. Final answers:\n",
    "\n",
    "1. Are different data types allowed? YES\n",
    "2. Is the order as the data is given or changed? GIVEN\n",
    "3. Are duplicate values allowed? NO for key, YES for value\n",
    "4. Can we make changes? YES\n",
    "\n",
    "Perhaps good to know, is that we can get the values and keys separately:"
   ]
  },
  {
   "cell_type": "code",
   "execution_count": null,
   "metadata": {},
   "outputs": [],
   "source": [
    "print(my_dict.values())\n",
    "print(my_dict.keys())"
   ]
  },
  {
   "cell_type": "markdown",
   "metadata": {},
   "source": [
    "## 2.6. Exercises\n",
    "\n",
    "**Exercise 2.1**\n",
    "\n",
    "Create your own list, tuple, set, array and dictionary. Then create a function that iterates over each entry and shows the result."
   ]
  },
  {
   "cell_type": "code",
   "execution_count": null,
   "metadata": {},
   "outputs": [],
   "source": []
  },
  {
   "cell_type": "markdown",
   "metadata": {},
   "source": [
    "**Exercise 2.2**\n",
    "\n",
    "Each of the examples so far were one-dimensional. Which (if any) of the collection types discussed, can also be done with higher dimensions and if so how?\n",
    "\n",
    "Post your findings in the discussion forum on Moodle."
   ]
  },
  {
   "cell_type": "code",
   "execution_count": null,
   "metadata": {},
   "outputs": [],
   "source": []
  },
  {
   "cell_type": "markdown",
   "metadata": {},
   "source": [
    "## 2.7. Final Remarks\n",
    "\n",
    "We covered a few different collection types that Python has. Below is a summary of the findings.\n",
    "\n",
    "|                    |List            |Tuple            |Set          |Array                 |Dictionary                |\n",
    "|:-------------------|:---------------|:----------------|:------------|:---------------------|:-------------------------|\n",
    "|Basic syntax        |my_list = [...] |my_tuple = (...) |my_set = {…} |my_arr = array(…, ….) |my_dict = {… : …, … : ...}|\n",
    "|Different data types|Yes             |Yes              |Yes          |No                    |Yes                       |\n",
    "|Ordered or Given    |Given           |Given            |Ordered      |Given                 |Given                     |\n",
    "|Duplicates          |Yes             |Yes              |No           |Yes                   |No (key), Yes (value)     |\n",
    "|Changeable          |Yes             |No               |Yes          |Yes                   |Yes                       |\n",
    "\n",
    "Python also has a library 'collections' which contains a few more, but those are outside the scope of this module.\n",
    "\n",
    "In the next session we'll look into loading data into Python and we'll see the use of two very commonly used libraries: Numpy and Pandas. We'll also take a closer look then at retrieving values from a collection including slicing. \n",
    "\n",
    "To finish this session, below are three 'easter eggs', but there are more. Also you will notice that in many Python's official documentation as well as in other courses there is a reference to Monty Python."
   ]
  },
  {
   "cell_type": "code",
   "execution_count": null,
   "metadata": {},
   "outputs": [],
   "source": [
    "import __hello__"
   ]
  },
  {
   "cell_type": "code",
   "execution_count": null,
   "metadata": {},
   "outputs": [],
   "source": [
    "import this"
   ]
  },
  {
   "cell_type": "code",
   "execution_count": null,
   "metadata": {},
   "outputs": [],
   "source": [
    "import antigravity"
   ]
  },
  {
   "cell_type": "code",
   "execution_count": null,
   "metadata": {},
   "outputs": [],
   "source": []
  }
 ],
 "metadata": {
  "kernelspec": {
   "display_name": "Python 3 (ipykernel)",
   "language": "python",
   "name": "python3"
  },
  "language_info": {
   "codemirror_mode": {
    "name": "ipython",
    "version": 3
   },
   "file_extension": ".py",
   "mimetype": "text/x-python",
   "name": "python",
   "nbconvert_exporter": "python",
   "pygments_lexer": "ipython3",
   "version": "3.9.7"
  }
 },
 "nbformat": 4,
 "nbformat_minor": 4
}
